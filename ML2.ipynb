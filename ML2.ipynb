{
 "cells": [
  {
   "cell_type": "code",
   "execution_count": 1,
   "metadata": {},
   "outputs": [],
   "source": [
    "#Import Statements\n",
    "import tensorflow as tf\n",
    "from keras.models import Sequential # type: ignore\n",
    "from keras.layers import Conv2D, MaxPooling2D, Flatten, Dense, Dropout # type: ignore\n",
    "from keras.applications import MobileNetV2 # type: ignore\n",
    "from tensorflow.keras.preprocessing.image import ImageDataGenerator # type: ignore\n",
    "from keras.optimizers import Adam # type: ignore\n",
    "import numpy as np  # type: ignore # for numerical operations\n",
    "import pandas as pd  # type: ignore # for dataset operations\n",
    "import matplotlib.pyplot as plt # type: ignore # for plotting\n",
    "import os # for file operations\n",
    "import cv2 # type: ignore # for image processing"
   ]
  }
 ],
 "metadata": {
  "kernelspec": {
   "display_name": ".venv",
   "language": "python",
   "name": "python3"
  },
  "language_info": {
   "codemirror_mode": {
    "name": "ipython",
    "version": 3
   },
   "file_extension": ".py",
   "mimetype": "text/x-python",
   "name": "python",
   "nbconvert_exporter": "python",
   "pygments_lexer": "ipython3",
   "version": "3.12.0"
  }
 },
 "nbformat": 4,
 "nbformat_minor": 2
}
