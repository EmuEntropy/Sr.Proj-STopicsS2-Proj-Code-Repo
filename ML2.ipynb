{
 "cells": [
  {
   "cell_type": "code",
   "execution_count": 1,
   "metadata": {},
   "outputs": [
    {
     "name": "stderr",
     "output_type": "stream",
     "text": [
      "C:\\Users\\maxkr\\AppData\\Local\\Temp\\ipykernel_17084\\3326307771.py:13: DeprecationWarning: 'imghdr' is deprecated and slated for removal in Python 3.13\n",
      "  import imghdr #type: ignore\n"
     ]
    }
   ],
   "source": [
    "#Import Statements\n",
    "import tensorflow as tf\n",
    "from keras.models import Sequential # type: ignore\n",
    "from keras.layers import Conv2D, MaxPooling2D, Flatten, Dense, Dropout # type: ignore\n",
    "from keras.applications import MobileNetV2 # type: ignore\n",
    "from tensorflow.keras.preprocessing.image import ImageDataGenerator # type: ignore\n",
    "from keras.optimizers import Adam # type: ignore\n",
    "import numpy as np  # type: ignore # for numerical operations\n",
    "import pandas as pd  # type: ignore # for dataset operations\n",
    "import matplotlib.pyplot as plt # type: ignore # for plotting\n",
    "import os # for file operations\n",
    "import cv2 # type: ignore # for image processing\n",
    "import imghdr #type: ignore\n",
    "from tensorflow.keras.layers import Conv2D, MaxPooling2D, Dense, Flatten, Dropout #type: ignore\n",
    "from tensorflow.keras.regularizers import l2  # type: ignore\n",
    "\n"
   ]
  },
  {
   "cell_type": "code",
   "execution_count": 2,
   "metadata": {},
   "outputs": [],
   "source": [
    "cpus = tf.config.experimental.list_physical_devices('CPU')"
   ]
  },
  {
   "cell_type": "code",
   "execution_count": 3,
   "metadata": {},
   "outputs": [
    {
     "data": {
      "text/plain": [
       "[PhysicalDevice(name='/physical_device:CPU:0', device_type='CPU')]"
      ]
     },
     "execution_count": 3,
     "metadata": {},
     "output_type": "execute_result"
    }
   ],
   "source": [
    "cpus"
   ]
  },
  {
   "cell_type": "code",
   "execution_count": 4,
   "metadata": {},
   "outputs": [],
   "source": [
    "#Avoid OOM errors by setting GPU memory consumption growth\n",
    "#Only Run if using the alienware for training\n",
    "gpus = tf.config.experimental.list_physical_devices('GPU')\n",
    "for gpu in gpus:\n",
    "    tf.config.experimental.set_memory_growth(gpu, True)"
   ]
  },
  {
   "cell_type": "markdown",
   "metadata": {},
   "source": [
    "    Remove corrupt/incompatible images"
   ]
  },
  {
   "cell_type": "code",
   "execution_count": 5,
   "metadata": {},
   "outputs": [
    {
     "data": {
      "text/plain": [
       "['Atopic Dermatitis - 1257',\n",
       " 'Benign Keratosis-like Lesions (BKL) -2079',\n",
       " 'Eczema - 1677',\n",
       " 'Melanoma - 3140',\n",
       " 'Psoriasis pictures Lichen Planus and related diseases - 2055',\n",
       " 'Seborrheic Keratoses and other Benign Tumors - 1847',\n",
       " 'Warts Molluscum and other Viral Infections - 2103']"
      ]
     },
     "execution_count": 5,
     "metadata": {},
     "output_type": "execute_result"
    }
   ],
   "source": [
    "data_dir = \"data\"\n",
    "os.listdir(data_dir)"
   ]
  },
  {
   "cell_type": "code",
   "execution_count": 6,
   "metadata": {},
   "outputs": [],
   "source": [
    "image_exts = ['jpeg', 'jpg', 'bmp', 'png']"
   ]
  },
  {
   "cell_type": "code",
   "execution_count": 7,
   "metadata": {},
   "outputs": [],
   "source": [
    "#for image_class in os.listdir(data_dir):\n",
    "    #for image in os.listdir(os.path.join(data_dir, image_class)):\n",
    "        #image_path = os.path.join(data_dir, image_class, image)\n",
    "        #try: \n",
    "            #img = cv2.imread(image_path) #checking for valid image path and valid image extension\n",
    "            #tip = imghdr.what(image_path)\n",
    "            #if tip not in image_exts:\n",
    "                #print('Image not in ext list {}'.format(image_path))\n",
    "                #os.remove(image_path)\n",
    "        #except Exception as e:\n",
    "            #print('Issue with image {}'.format(image_path))\n",
    "\n",
    "            # 2m 52.5s"
   ]
  },
  {
   "cell_type": "markdown",
   "metadata": {},
   "source": [
    "load data (using pipeline to avoid loading data into memory simultaneously), Data isn't preloaded into memory rather generated on the fly by the pipeline, meaning we cant do data[0] to view our dataset, we have to do more complicated procedure. This step is absolutely necessary because of the massive size of our dataset..."
   ]
  },
  {
   "cell_type": "code",
   "execution_count": 8,
   "metadata": {},
   "outputs": [
    {
     "name": "stdout",
     "output_type": "stream",
     "text": [
      "Found 14158 files belonging to 7 classes.\n"
     ]
    }
   ],
   "source": [
    "data = tf.keras.utils.image_dataset_from_directory('data') #creates batch size, image size, etc.."
   ]
  },
  {
   "cell_type": "code",
   "execution_count": 9,
   "metadata": {},
   "outputs": [
    {
     "data": {
      "text/plain": [
       "2"
      ]
     },
     "execution_count": 9,
     "metadata": {},
     "output_type": "execute_result"
    }
   ],
   "source": [
    "data_iterator = data.as_numpy_iterator() #creates an iterator for the dataset, #allows us to access data pipeline\n",
    "batch = data_iterator.next() #gets the next batch of data from the iterator, #accesses data pipeline\n",
    "#batch\n",
    "len(batch)"
   ]
  },
  {
   "cell_type": "code",
   "execution_count": 10,
   "metadata": {},
   "outputs": [
    {
     "data": {
      "text/plain": [
       "(32, 256, 256, 3)"
      ]
     },
     "execution_count": 10,
     "metadata": {},
     "output_type": "execute_result"
    }
   ],
   "source": [
    "batch[0].shape #batch[0] is the images, batch[1] is the labels"
   ]
  },
  {
   "cell_type": "code",
   "execution_count": 11,
   "metadata": {},
   "outputs": [
    {
     "data": {
      "text/plain": [
       "array([2, 2, 1, 0, 6, 1, 2, 6, 6, 3, 2, 3, 0, 1, 0, 4, 4, 6, 6, 1, 1, 4,\n",
       "       4, 4, 6, 4, 3, 4, 6, 5, 5, 2], dtype=int32)"
      ]
     },
     "execution_count": 11,
     "metadata": {},
     "output_type": "execute_result"
    }
   ],
   "source": [
    "batch[1]"
   ]
  },
  {
   "cell_type": "code",
   "execution_count": 12,
   "metadata": {},
   "outputs": [],
   "source": [
    "#fig, ax = plt.subplots(ncols=4, figsize=(20, 20)) #creates a figure with 4 subplots\n",
    "#for idx, img in enumerate(batch[0][:4]): #iterates over the first 4 images in the batch\n",
    "        #ax[idx].imshow(img.astype('uint8')) #displays the image in the subplot\n",
    "        #ax[idx].set_title(batch[1][idx]) #sets the title of the subplot to the label of the image\n",
    "        #ax[idx].axis('off') #turns off the axis for the subplot\n",
    "\n",
    "        #images in key/index 0, labels in key/index 1"
   ]
  },
  {
   "cell_type": "markdown",
   "metadata": {},
   "source": [
    "Preprocessing Data"
   ]
  },
  {
   "cell_type": "code",
   "execution_count": 13,
   "metadata": {},
   "outputs": [
    {
     "data": {
      "text/plain": [
       "np.float32(255.0)"
      ]
     },
     "execution_count": 13,
     "metadata": {},
     "output_type": "execute_result"
    }
   ],
   "source": [
    "batch[0].max()"
   ]
  },
  {
   "cell_type": "code",
   "execution_count": 14,
   "metadata": {},
   "outputs": [
    {
     "data": {
      "text/plain": [
       "np.float32(1.0)"
      ]
     },
     "execution_count": 14,
     "metadata": {},
     "output_type": "execute_result"
    }
   ],
   "source": [
    "scaled = batch[0] / 255\n",
    "scaled.max() #max value of the scaled image is 1, min value is 0"
   ]
  },
  {
   "cell_type": "code",
   "execution_count": 15,
   "metadata": {},
   "outputs": [
    {
     "data": {
      "text/plain": [
       "(array([[[[0.6372549 , 0.42941177, 0.35882354],\n",
       "          [0.62647057, 0.41862744, 0.3480392 ],\n",
       "          [0.6215686 , 0.42156863, 0.34705883],\n",
       "          ...,\n",
       "          [0.62058824, 0.39411765, 0.3156863 ],\n",
       "          [0.6362745 , 0.4127451 , 0.3382353 ],\n",
       "          [0.62352943, 0.40392157, 0.3372549 ]],\n",
       " \n",
       "         [[0.62941176, 0.42156863, 0.3509804 ],\n",
       "          [0.62941176, 0.42941177, 0.35490197],\n",
       "          [0.6372549 , 0.4372549 , 0.3627451 ],\n",
       "          ...,\n",
       "          [0.6333333 , 0.40882352, 0.33039215],\n",
       "          [0.63235295, 0.41470587, 0.33529413],\n",
       "          [0.6343137 , 0.41862744, 0.34019607]],\n",
       " \n",
       "         [[0.6362745 , 0.4362745 , 0.3617647 ],\n",
       "          [0.6343137 , 0.4343137 , 0.35980392],\n",
       "          [0.64215684, 0.44215685, 0.36764705],\n",
       "          ...,\n",
       "          [0.6480392 , 0.4245098 , 0.35392156],\n",
       "          [0.6254902 , 0.40588236, 0.34117648],\n",
       "          [0.60882354, 0.40098038, 0.33431372]],\n",
       " \n",
       "         ...,\n",
       " \n",
       "         [[0.5127451 , 0.3245098 , 0.24411765],\n",
       "          [0.51862746, 0.33039215, 0.24215686],\n",
       "          [0.51666665, 0.31666666, 0.23431373],\n",
       "          ...,\n",
       "          [0.55588233, 0.35196078, 0.26568627],\n",
       "          [0.54901963, 0.34509805, 0.25882354],\n",
       "          [0.5568628 , 0.3529412 , 0.25882354]],\n",
       " \n",
       "         [[0.50490195, 0.31666666, 0.23431373],\n",
       "          [0.50980395, 0.32156864, 0.23333333],\n",
       "          [0.5009804 , 0.3009804 , 0.21862745],\n",
       "          ...,\n",
       "          [0.55784315, 0.35392156, 0.26764706],\n",
       "          [0.5637255 , 0.35980392, 0.2735294 ],\n",
       "          [0.55784315, 0.35392156, 0.26764706]],\n",
       " \n",
       "         [[0.50980395, 0.32156864, 0.23921569],\n",
       "          [0.4970588 , 0.30882353, 0.22058824],\n",
       "          [0.5029412 , 0.30294117, 0.22058824],\n",
       "          ...,\n",
       "          [0.5745098 , 0.37058824, 0.28431374],\n",
       "          [0.5627451 , 0.35882354, 0.27254903],\n",
       "          [0.5509804 , 0.34705883, 0.26078433]]],\n",
       " \n",
       " \n",
       "        [[[0.8733456 , 0.6503983 , 0.6775582 ],\n",
       "          [0.85882354, 0.6431373 , 0.6666667 ],\n",
       "          [0.8617341 , 0.6489583 , 0.67248774],\n",
       "          ...,\n",
       "          [0.9161918 , 0.69905025, 0.6901961 ],\n",
       "          [0.9206955 , 0.70500916, 0.6871477 ],\n",
       "          [0.92519915, 0.7095129 , 0.68990505]],\n",
       " \n",
       "         [[0.8552029 , 0.6255088 , 0.64348084],\n",
       "          [0.85289866, 0.62674874, 0.64329827],\n",
       "          [0.8773375 , 0.65909076, 0.67319924],\n",
       "          ...,\n",
       "          [0.9110765 , 0.69824064, 0.69252676],\n",
       "          [0.91685593, 0.7067511 , 0.6920299 ],\n",
       "          [0.9220588 , 0.71265316, 0.69618565]],\n",
       " \n",
       "         [[0.86281466, 0.6288227 , 0.63926995],\n",
       "          [0.84909165, 0.61596936, 0.62496024],\n",
       "          [0.8678252 , 0.63968354, 0.64261776],\n",
       "          ...,\n",
       "          [0.9098039 , 0.7058977 , 0.7016404 ],\n",
       "          [0.9138645 , 0.7109704 , 0.7037224 ],\n",
       "          [0.9138079 , 0.7136288 , 0.705801  ]],\n",
       " \n",
       "         ...,\n",
       " \n",
       "         [[0.6696574 , 0.44540915, 0.416431  ],\n",
       "          [0.67302275, 0.45691946, 0.42522636],\n",
       "          [0.6630891 , 0.4500223 , 0.4144065 ],\n",
       "          ...,\n",
       "          [0.7130891 , 0.4895597 , 0.45919818],\n",
       "          [0.70893073, 0.49149817, 0.470144  ],\n",
       "          [0.7035539 , 0.48786765, 0.4682598 ]],\n",
       " \n",
       "         [[0.675732  , 0.44828102, 0.4349385 ],\n",
       "          [0.69079995, 0.46596846, 0.45157883],\n",
       "          [0.6852294 , 0.46954316, 0.4491671 ],\n",
       "          ...,\n",
       "          [0.71346396, 0.49178693, 0.4611355 ],\n",
       "          [0.71180964, 0.49472496, 0.4733708 ],\n",
       "          [0.70695466, 0.4912684 , 0.47166052]],\n",
       " \n",
       "         [[0.6759651 , 0.4485141 , 0.44459254],\n",
       "          [0.6967371 , 0.47190565, 0.46623775],\n",
       "          [0.70442706, 0.4887408 , 0.4769761 ],\n",
       "          ...,\n",
       "          [0.70834863, 0.49411765, 0.46230087],\n",
       "          [0.7128523 , 0.49716607, 0.4758119 ],\n",
       "          [0.710095  , 0.4944087 , 0.47480085]]],\n",
       " \n",
       " \n",
       "        [[[0.49388596, 0.40761143, 0.36447418],\n",
       "          [0.5094095 , 0.42313495, 0.3799977 ],\n",
       "          [0.49763137, 0.41919997, 0.37606272],\n",
       "          ...,\n",
       "          [0.41037646, 0.33586666, 0.2809647 ],\n",
       "          [0.39988893, 0.32537913, 0.2665556 ],\n",
       "          [0.40404412, 0.32953432, 0.2707108 ]],\n",
       " \n",
       "         [[0.5259536 , 0.4396791 , 0.39654183],\n",
       "          [0.48107192, 0.3947974 , 0.35166016],\n",
       "          [0.52094823, 0.44251686, 0.39937958],\n",
       "          ...,\n",
       "          [0.40680146, 0.33229166, 0.2773897 ],\n",
       "          [0.40775505, 0.33324525, 0.27442172],\n",
       "          [0.41931486, 0.34480506, 0.28598154]],\n",
       " \n",
       "         [[0.5041054 , 0.41783088, 0.37469363],\n",
       "          [0.4868183 , 0.40618107, 0.3630438 ],\n",
       "          [0.50767845, 0.42924708, 0.38610983],\n",
       "          ...,\n",
       "          [0.3976371 , 0.3231273 , 0.26822534],\n",
       "          [0.40453622, 0.33002642, 0.27402154],\n",
       "          [0.41462356, 0.34011373, 0.2812902 ]],\n",
       " \n",
       "         ...,\n",
       " \n",
       "         [[0.53302693, 0.42714462, 0.39969364],\n",
       "          [0.5171473 , 0.40734336, 0.39165708],\n",
       "          [0.5393823 , 0.43349993, 0.4018823 ],\n",
       "          ...,\n",
       "          [0.4227501 , 0.3482403 , 0.2933383 ],\n",
       "          [0.3893344 , 0.3148246 , 0.25992265],\n",
       "          [0.39675245, 0.32224265, 0.2673407 ]],\n",
       " \n",
       "         [[0.5233705 , 0.41748813, 0.3764342 ],\n",
       "          [0.5401616 , 0.43353057, 0.40670574],\n",
       "          [0.5423962 , 0.43651387, 0.40489623],\n",
       "          ...,\n",
       "          [0.41065985, 0.33615005, 0.2812481 ],\n",
       "          [0.40827206, 0.33376226, 0.2788603 ],\n",
       "          [0.422842  , 0.3483322 , 0.2934302 ]],\n",
       " \n",
       "         [[0.530036  , 0.42807522, 0.3725605 ],\n",
       "          [0.52952284, 0.42364046, 0.39270833],\n",
       "          [0.53715533, 0.43127298, 0.39965534],\n",
       "          ...,\n",
       "          [0.40500346, 0.33049363, 0.27559167],\n",
       "          [0.43088236, 0.35637254, 0.30147058],\n",
       "          [0.41367188, 0.33916208, 0.28426012]]],\n",
       " \n",
       " \n",
       "        ...,\n",
       " \n",
       " \n",
       "        [[[0.22729014, 0.1567019 , 0.10179994],\n",
       "          [0.16835171, 0.10340074, 0.04568015],\n",
       "          [0.18844976, 0.12570466, 0.07472426],\n",
       "          ...,\n",
       "          [0.        , 0.        , 0.        ],\n",
       "          [0.        , 0.        , 0.        ],\n",
       "          [0.        , 0.        , 0.        ]],\n",
       " \n",
       "         [[0.17480852, 0.10422028, 0.04931832],\n",
       "          [0.22361366, 0.15866268, 0.1009421 ],\n",
       "          [0.24080117, 0.17805606, 0.11923254],\n",
       "          ...,\n",
       "          [0.        , 0.        , 0.        ],\n",
       "          [0.        , 0.        , 0.        ],\n",
       "          [0.        , 0.        , 0.        ]],\n",
       " \n",
       "         [[0.1979856 , 0.12739736, 0.0724954 ],\n",
       "          [0.19223346, 0.12728247, 0.06956188],\n",
       "          [0.20726103, 0.14451593, 0.0856924 ],\n",
       "          ...,\n",
       "          [0.        , 0.        , 0.        ],\n",
       "          [0.        , 0.        , 0.        ],\n",
       "          [0.        , 0.        , 0.        ]],\n",
       " \n",
       "         ...,\n",
       " \n",
       "         [[0.16211703, 0.11505821, 0.06799939],\n",
       "          [0.15710019, 0.11004136, 0.06298254],\n",
       "          [0.17686887, 0.12981005, 0.08275122],\n",
       "          ...,\n",
       "          [0.        , 0.        , 0.        ],\n",
       "          [0.        , 0.        , 0.        ],\n",
       "          [0.00392157, 0.00392157, 0.00392157]],\n",
       " \n",
       "         [[0.14862898, 0.10157016, 0.05451133],\n",
       "          [0.13769148, 0.09063266, 0.04357383],\n",
       "          [0.15943627, 0.11237745, 0.06531863],\n",
       "          ...,\n",
       "          [0.        , 0.        , 0.        ],\n",
       "          [0.        , 0.        , 0.        ],\n",
       "          [0.00392157, 0.00392157, 0.00392157]],\n",
       " \n",
       "         [[0.16295956, 0.11590073, 0.06884191],\n",
       "          [0.15585172, 0.10879289, 0.06173407],\n",
       "          [0.14888173, 0.10182292, 0.05476409],\n",
       "          ...,\n",
       "          [0.        , 0.        , 0.        ],\n",
       "          [0.        , 0.        , 0.        ],\n",
       "          [0.00392157, 0.00392157, 0.00392157]]],\n",
       " \n",
       " \n",
       "        [[[0.13333334, 0.13333334, 0.16862746],\n",
       "          [0.08137255, 0.08529412, 0.09705883],\n",
       "          [0.08137255, 0.08529412, 0.09313726],\n",
       "          ...,\n",
       "          [0.03627451, 0.04411765, 0.03235294],\n",
       "          [0.03529412, 0.0372549 , 0.03627451],\n",
       "          [0.03333334, 0.03039216, 0.04705882]],\n",
       " \n",
       "         [[0.08529412, 0.0872549 , 0.1127451 ],\n",
       "          [0.07941177, 0.08333334, 0.09509804],\n",
       "          [0.08627451, 0.08627451, 0.0882353 ],\n",
       "          ...,\n",
       "          [0.03529412, 0.04117647, 0.03235294],\n",
       "          [0.02941176, 0.03921569, 0.03529412],\n",
       "          [0.03333334, 0.02941176, 0.03921569]],\n",
       " \n",
       "         [[0.08529412, 0.08137255, 0.10490196],\n",
       "          [0.08431373, 0.08235294, 0.09607843],\n",
       "          [0.07450981, 0.07450981, 0.07843138],\n",
       "          ...,\n",
       "          [0.03921569, 0.04313726, 0.04313726],\n",
       "          [0.03137255, 0.04117647, 0.0372549 ],\n",
       "          [0.03627451, 0.03235294, 0.03431373]],\n",
       " \n",
       "         ...,\n",
       " \n",
       "         [[0.0627451 , 0.05882353, 0.06078431],\n",
       "          [0.05882353, 0.06078431, 0.06862745],\n",
       "          [0.05882353, 0.06568628, 0.07450981],\n",
       "          ...,\n",
       "          [0.46960783, 0.38235295, 0.35784313],\n",
       "          [0.4480392 , 0.35      , 0.32254902],\n",
       "          [0.44607842, 0.34019607, 0.3127451 ]],\n",
       " \n",
       "         [[0.06568628, 0.06568628, 0.06176471],\n",
       "          [0.06372549, 0.06372549, 0.07450981],\n",
       "          [0.05490196, 0.05686275, 0.07450981],\n",
       "          ...,\n",
       "          [0.46078432, 0.37843138, 0.35392156],\n",
       "          [0.4598039 , 0.36372548, 0.34313726],\n",
       "          [0.45392156, 0.3480392 , 0.32058823]],\n",
       " \n",
       "         [[0.06372549, 0.06372549, 0.05980392],\n",
       "          [0.06764706, 0.06078431, 0.07647059],\n",
       "          [0.05686275, 0.05686275, 0.07647059],\n",
       "          ...,\n",
       "          [0.4627451 , 0.38039216, 0.36078432],\n",
       "          [0.45294118, 0.36078432, 0.3382353 ],\n",
       "          [0.45      , 0.34411764, 0.31666666]]],\n",
       " \n",
       " \n",
       "        [[[0.02352941, 0.01960784, 0.01176471],\n",
       "          [0.01960784, 0.01568628, 0.00784314],\n",
       "          [0.02352941, 0.01568628, 0.01960784],\n",
       "          ...,\n",
       "          [0.03077225, 0.02685068, 0.01484279],\n",
       "          [0.05706189, 0.04137561, 0.03337594],\n",
       "          [0.02279795, 0.00909687, 0.00328776]],\n",
       " \n",
       "         [[0.01960784, 0.01568628, 0.00784314],\n",
       "          [0.02352941, 0.01960784, 0.01176471],\n",
       "          [0.01960784, 0.01568628, 0.00784314],\n",
       "          ...,\n",
       "          [0.03241852, 0.02849695, 0.01416159],\n",
       "          [0.03481397, 0.02758358, 0.01590073],\n",
       "          [0.04404775, 0.02836148, 0.01774902]],\n",
       " \n",
       "         [[0.01568628, 0.01568628, 0.00784314],\n",
       "          [0.01960784, 0.01960784, 0.01176471],\n",
       "          [0.01568628, 0.01568628, 0.00784314],\n",
       "          ...,\n",
       "          [0.02728152, 0.02335995, 0.00767367],\n",
       "          [0.02900103, 0.02177064, 0.00787234],\n",
       "          [0.02411152, 0.00842525, 0.00317143]],\n",
       " \n",
       "         ...,\n",
       " \n",
       "         [[0.35435   , 0.2916049 , 0.09160491],\n",
       "          [0.3629366 , 0.2867111 , 0.09063266],\n",
       "          [0.34075376, 0.2552404 , 0.06270297],\n",
       "          ...,\n",
       "          [0.12284917, 0.12430684, 0.07519531],\n",
       "          [0.00831083, 0.01142052, 0.        ],\n",
       "          [0.00870385, 0.01654699, 0.        ]],\n",
       " \n",
       "         [[0.519807  , 0.46490502, 0.21508884],\n",
       "          [0.54933316, 0.4807823 , 0.2350562 ],\n",
       "          [0.50817823, 0.42698807, 0.18433958],\n",
       "          ...,\n",
       "          [0.2935049 , 0.29742646, 0.24133253],\n",
       "          [0.36891708, 0.37283865, 0.31539378],\n",
       "          [0.27593875, 0.27986032, 0.21661831]],\n",
       " \n",
       "         [[0.5412765 , 0.47832605, 0.24600089],\n",
       "          [0.55699676, 0.48861444, 0.24670936],\n",
       "          [0.54279834, 0.46818033, 0.23253436],\n",
       "          ...,\n",
       "          [0.03764744, 0.03764744, 0.01379395],\n",
       "          [0.01933163, 0.01479396, 0.00862534],\n",
       "          [0.07572094, 0.06824544, 0.02483915]]]], dtype=float32),\n",
       " array([3, 4, 6, 5, 0, 3, 6, 3, 4, 2, 4, 3, 6, 3, 2, 2, 1, 6, 1, 6, 5, 3,\n",
       "        3, 1, 6, 2, 1, 0, 4, 4, 3, 5], dtype=int32))"
      ]
     },
     "execution_count": 15,
     "metadata": {},
     "output_type": "execute_result"
    }
   ],
   "source": [
    "data = data.map(lambda x, y: (x / 255, y)) #scales the images to be between 0 and 1\n",
    "data.as_numpy_iterator().next() #gets the next batch of data from the iterator, #accesses data pipeline\n"
   ]
  },
  {
   "cell_type": "code",
   "execution_count": 16,
   "metadata": {},
   "outputs": [
    {
     "data": {
      "text/plain": [
       "np.float32(1.0)"
      ]
     },
     "execution_count": 16,
     "metadata": {},
     "output_type": "execute_result"
    }
   ],
   "source": [
    "scaled_iterator = data.as_numpy_iterator() #creates an iterator for the dataset, #allows us to access data pipeline\n",
    "scaled_batch = scaled_iterator.next() #gets the next batch of data from the iterator, #accesses data pipeline\n",
    "scaled_batch[0].max() #max value of the scaled image is 1, min value is 0"
   ]
  },
  {
   "cell_type": "code",
   "execution_count": 17,
   "metadata": {},
   "outputs": [],
   "source": [
    "#fig, ax = plt.subplots(ncols=4, figsize=(20, 20)) #creates a figure with 4 subplots\n",
    "#for idx, img in enumerate(scaled_batch[0][:4]): #iterates over the first 4 images in the batch\n",
    "        #ax[idx].imshow(img) #displays the image in the subplot\n",
    "        #ax[idx].set_title(scaled_batch[1][idx]) #sets the title of the subplot to the label of the image\n",
    "        #ax[idx].axis('off') #turns off the axis for the subplot\n",
    "\n",
    "        #images in key/index 0, labels in key/index 1"
   ]
  },
  {
   "cell_type": "markdown",
   "metadata": {},
   "source": [
    "Scaling Images"
   ]
  },
  {
   "cell_type": "code",
   "execution_count": 18,
   "metadata": {},
   "outputs": [
    {
     "data": {
      "text/plain": [
       "443"
      ]
     },
     "execution_count": 18,
     "metadata": {},
     "output_type": "execute_result"
    }
   ],
   "source": [
    "len(data)\n",
    "#number of batches total, each batch has 32 images"
   ]
  },
  {
   "cell_type": "code",
   "execution_count": 19,
   "metadata": {},
   "outputs": [],
   "source": [
    "train_size = int(len(data) * 0.7) #70% of the data is used for training #310 images per batch\n",
    "val_size = int(len(data) * 0.2) #20% of the data is used for validation #88 images per batch\n",
    "test_size = int(len(data) * 0.1) #10% of the data is used for testing #44 images per batch"
   ]
  },
  {
   "cell_type": "code",
   "execution_count": 20,
   "metadata": {},
   "outputs": [
    {
     "data": {
      "text/plain": [
       "442"
      ]
     },
     "execution_count": 20,
     "metadata": {},
     "output_type": "execute_result"
    }
   ],
   "source": [
    "test_size+val_size+train_size"
   ]
  },
  {
   "cell_type": "code",
   "execution_count": 21,
   "metadata": {},
   "outputs": [
    {
     "data": {
      "text/plain": [
       "(310, 88, 44)"
      ]
     },
     "execution_count": 21,
     "metadata": {},
     "output_type": "execute_result"
    }
   ],
   "source": [
    "train = data.take(train_size) #takes the first 70% of the data for training\n",
    "val = data.skip(train_size).take(val_size) #takes the next 20% of the data for validation\n",
    "test = data.skip(train_size + val_size).take(test_size) #takes the last 10% of the data for testing\n",
    "len(train), len(val), len(test) #number of batches in each dataset"
   ]
  },
  {
   "cell_type": "markdown",
   "metadata": {},
   "source": [
    "Building the Actual Models"
   ]
  },
  {
   "cell_type": "code",
   "execution_count": 22,
   "metadata": {},
   "outputs": [],
   "source": [
    "model = Sequential()"
   ]
  },
  {
   "cell_type": "code",
   "execution_count": null,
   "metadata": {},
   "outputs": [
    {
     "name": "stderr",
     "output_type": "stream",
     "text": [
      "c:\\Users\\maxkr\\Documents\\Sr.Proj-STopicsS2-Proj-Code-Repo\\.venv\\Lib\\site-packages\\keras\\src\\layers\\convolutional\\base_conv.py:107: UserWarning: Do not pass an `input_shape`/`input_dim` argument to a layer. When using Sequential models, prefer using an `Input(shape)` object as the first layer in the model instead.\n",
      "  super().__init__(activity_regularizer=activity_regularizer, **kwargs)\n"
     ]
    }
   ],
   "source": [
    "model.add(Conv2D(16, (3,3), 1, activation='relu', input_shape=(256,256,3), kernel_regularizer=l2(0.01))) #first layer, input, 3 channels, stride of 1, 16 filters\n",
    "model.add(MaxPooling2D()) #takes max values after relu activation and returns that value and condenses the information (by half)\n",
    "\n",
    "model.add(Conv2D(32, (3,3), 1, activation='relu', kernel_regularizer=l2(0.01)))\n",
    "model.add(MaxPooling2D())\n",
    "\n",
    "model.add(Conv2D(16, (3,3), 1, activation='relu', kernel_regularizer=l2(0.01)))\n",
    "model.add(MaxPooling2D())\n",
    "\n",
    "model.add(Flatten())\n",
    "\n",
    "model.add(Dense(256, activation = 'relu', kernel_regularizer=l2(0.01)))\n",
    "model.add(Dense(10, activation = 'softmax', kernel_regularizer=l2(0.01))) #output layer, 10 neurons, softmax activation function"
   ]
  },
  {
   "cell_type": "code",
   "execution_count": 24,
   "metadata": {},
   "outputs": [],
   "source": [
    "model.compile('adam', loss=tf.losses.SparseCategoricalCrossentropy(), metrics=['accuracy']) #compiles the model, adam optimizer, binary crossentropy loss function, accuracy metric"
   ]
  },
  {
   "cell_type": "code",
   "execution_count": 25,
   "metadata": {},
   "outputs": [
    {
     "data": {
      "text/html": [
       "<pre style=\"white-space:pre;overflow-x:auto;line-height:normal;font-family:Menlo,'DejaVu Sans Mono',consolas,'Courier New',monospace\"><span style=\"font-weight: bold\">Model: \"sequential\"</span>\n",
       "</pre>\n"
      ],
      "text/plain": [
       "\u001b[1mModel: \"sequential\"\u001b[0m\n"
      ]
     },
     "metadata": {},
     "output_type": "display_data"
    },
    {
     "data": {
      "text/html": [
       "<pre style=\"white-space:pre;overflow-x:auto;line-height:normal;font-family:Menlo,'DejaVu Sans Mono',consolas,'Courier New',monospace\">┏━━━━━━━━━━━━━━━━━━━━━━━━━━━━━━━━━┳━━━━━━━━━━━━━━━━━━━━━━━━┳━━━━━━━━━━━━━━━┓\n",
       "┃<span style=\"font-weight: bold\"> Layer (type)                    </span>┃<span style=\"font-weight: bold\"> Output Shape           </span>┃<span style=\"font-weight: bold\">       Param # </span>┃\n",
       "┡━━━━━━━━━━━━━━━━━━━━━━━━━━━━━━━━━╇━━━━━━━━━━━━━━━━━━━━━━━━╇━━━━━━━━━━━━━━━┩\n",
       "│ conv2d (<span style=\"color: #0087ff; text-decoration-color: #0087ff\">Conv2D</span>)                 │ (<span style=\"color: #00d7ff; text-decoration-color: #00d7ff\">None</span>, <span style=\"color: #00af00; text-decoration-color: #00af00\">254</span>, <span style=\"color: #00af00; text-decoration-color: #00af00\">254</span>, <span style=\"color: #00af00; text-decoration-color: #00af00\">16</span>)   │           <span style=\"color: #00af00; text-decoration-color: #00af00\">448</span> │\n",
       "├─────────────────────────────────┼────────────────────────┼───────────────┤\n",
       "│ max_pooling2d (<span style=\"color: #0087ff; text-decoration-color: #0087ff\">MaxPooling2D</span>)    │ (<span style=\"color: #00d7ff; text-decoration-color: #00d7ff\">None</span>, <span style=\"color: #00af00; text-decoration-color: #00af00\">127</span>, <span style=\"color: #00af00; text-decoration-color: #00af00\">127</span>, <span style=\"color: #00af00; text-decoration-color: #00af00\">16</span>)   │             <span style=\"color: #00af00; text-decoration-color: #00af00\">0</span> │\n",
       "├─────────────────────────────────┼────────────────────────┼───────────────┤\n",
       "│ conv2d_1 (<span style=\"color: #0087ff; text-decoration-color: #0087ff\">Conv2D</span>)               │ (<span style=\"color: #00d7ff; text-decoration-color: #00d7ff\">None</span>, <span style=\"color: #00af00; text-decoration-color: #00af00\">125</span>, <span style=\"color: #00af00; text-decoration-color: #00af00\">125</span>, <span style=\"color: #00af00; text-decoration-color: #00af00\">32</span>)   │         <span style=\"color: #00af00; text-decoration-color: #00af00\">4,640</span> │\n",
       "├─────────────────────────────────┼────────────────────────┼───────────────┤\n",
       "│ max_pooling2d_1 (<span style=\"color: #0087ff; text-decoration-color: #0087ff\">MaxPooling2D</span>)  │ (<span style=\"color: #00d7ff; text-decoration-color: #00d7ff\">None</span>, <span style=\"color: #00af00; text-decoration-color: #00af00\">62</span>, <span style=\"color: #00af00; text-decoration-color: #00af00\">62</span>, <span style=\"color: #00af00; text-decoration-color: #00af00\">32</span>)     │             <span style=\"color: #00af00; text-decoration-color: #00af00\">0</span> │\n",
       "├─────────────────────────────────┼────────────────────────┼───────────────┤\n",
       "│ conv2d_2 (<span style=\"color: #0087ff; text-decoration-color: #0087ff\">Conv2D</span>)               │ (<span style=\"color: #00d7ff; text-decoration-color: #00d7ff\">None</span>, <span style=\"color: #00af00; text-decoration-color: #00af00\">60</span>, <span style=\"color: #00af00; text-decoration-color: #00af00\">60</span>, <span style=\"color: #00af00; text-decoration-color: #00af00\">16</span>)     │         <span style=\"color: #00af00; text-decoration-color: #00af00\">4,624</span> │\n",
       "├─────────────────────────────────┼────────────────────────┼───────────────┤\n",
       "│ max_pooling2d_2 (<span style=\"color: #0087ff; text-decoration-color: #0087ff\">MaxPooling2D</span>)  │ (<span style=\"color: #00d7ff; text-decoration-color: #00d7ff\">None</span>, <span style=\"color: #00af00; text-decoration-color: #00af00\">30</span>, <span style=\"color: #00af00; text-decoration-color: #00af00\">30</span>, <span style=\"color: #00af00; text-decoration-color: #00af00\">16</span>)     │             <span style=\"color: #00af00; text-decoration-color: #00af00\">0</span> │\n",
       "├─────────────────────────────────┼────────────────────────┼───────────────┤\n",
       "│ flatten (<span style=\"color: #0087ff; text-decoration-color: #0087ff\">Flatten</span>)               │ (<span style=\"color: #00d7ff; text-decoration-color: #00d7ff\">None</span>, <span style=\"color: #00af00; text-decoration-color: #00af00\">14400</span>)          │             <span style=\"color: #00af00; text-decoration-color: #00af00\">0</span> │\n",
       "├─────────────────────────────────┼────────────────────────┼───────────────┤\n",
       "│ dense (<span style=\"color: #0087ff; text-decoration-color: #0087ff\">Dense</span>)                   │ (<span style=\"color: #00d7ff; text-decoration-color: #00d7ff\">None</span>, <span style=\"color: #00af00; text-decoration-color: #00af00\">256</span>)            │     <span style=\"color: #00af00; text-decoration-color: #00af00\">3,686,656</span> │\n",
       "├─────────────────────────────────┼────────────────────────┼───────────────┤\n",
       "│ dense_1 (<span style=\"color: #0087ff; text-decoration-color: #0087ff\">Dense</span>)                 │ (<span style=\"color: #00d7ff; text-decoration-color: #00d7ff\">None</span>, <span style=\"color: #00af00; text-decoration-color: #00af00\">10</span>)             │         <span style=\"color: #00af00; text-decoration-color: #00af00\">2,570</span> │\n",
       "└─────────────────────────────────┴────────────────────────┴───────────────┘\n",
       "</pre>\n"
      ],
      "text/plain": [
       "┏━━━━━━━━━━━━━━━━━━━━━━━━━━━━━━━━━┳━━━━━━━━━━━━━━━━━━━━━━━━┳━━━━━━━━━━━━━━━┓\n",
       "┃\u001b[1m \u001b[0m\u001b[1mLayer (type)                   \u001b[0m\u001b[1m \u001b[0m┃\u001b[1m \u001b[0m\u001b[1mOutput Shape          \u001b[0m\u001b[1m \u001b[0m┃\u001b[1m \u001b[0m\u001b[1m      Param #\u001b[0m\u001b[1m \u001b[0m┃\n",
       "┡━━━━━━━━━━━━━━━━━━━━━━━━━━━━━━━━━╇━━━━━━━━━━━━━━━━━━━━━━━━╇━━━━━━━━━━━━━━━┩\n",
       "│ conv2d (\u001b[38;5;33mConv2D\u001b[0m)                 │ (\u001b[38;5;45mNone\u001b[0m, \u001b[38;5;34m254\u001b[0m, \u001b[38;5;34m254\u001b[0m, \u001b[38;5;34m16\u001b[0m)   │           \u001b[38;5;34m448\u001b[0m │\n",
       "├─────────────────────────────────┼────────────────────────┼───────────────┤\n",
       "│ max_pooling2d (\u001b[38;5;33mMaxPooling2D\u001b[0m)    │ (\u001b[38;5;45mNone\u001b[0m, \u001b[38;5;34m127\u001b[0m, \u001b[38;5;34m127\u001b[0m, \u001b[38;5;34m16\u001b[0m)   │             \u001b[38;5;34m0\u001b[0m │\n",
       "├─────────────────────────────────┼────────────────────────┼───────────────┤\n",
       "│ conv2d_1 (\u001b[38;5;33mConv2D\u001b[0m)               │ (\u001b[38;5;45mNone\u001b[0m, \u001b[38;5;34m125\u001b[0m, \u001b[38;5;34m125\u001b[0m, \u001b[38;5;34m32\u001b[0m)   │         \u001b[38;5;34m4,640\u001b[0m │\n",
       "├─────────────────────────────────┼────────────────────────┼───────────────┤\n",
       "│ max_pooling2d_1 (\u001b[38;5;33mMaxPooling2D\u001b[0m)  │ (\u001b[38;5;45mNone\u001b[0m, \u001b[38;5;34m62\u001b[0m, \u001b[38;5;34m62\u001b[0m, \u001b[38;5;34m32\u001b[0m)     │             \u001b[38;5;34m0\u001b[0m │\n",
       "├─────────────────────────────────┼────────────────────────┼───────────────┤\n",
       "│ conv2d_2 (\u001b[38;5;33mConv2D\u001b[0m)               │ (\u001b[38;5;45mNone\u001b[0m, \u001b[38;5;34m60\u001b[0m, \u001b[38;5;34m60\u001b[0m, \u001b[38;5;34m16\u001b[0m)     │         \u001b[38;5;34m4,624\u001b[0m │\n",
       "├─────────────────────────────────┼────────────────────────┼───────────────┤\n",
       "│ max_pooling2d_2 (\u001b[38;5;33mMaxPooling2D\u001b[0m)  │ (\u001b[38;5;45mNone\u001b[0m, \u001b[38;5;34m30\u001b[0m, \u001b[38;5;34m30\u001b[0m, \u001b[38;5;34m16\u001b[0m)     │             \u001b[38;5;34m0\u001b[0m │\n",
       "├─────────────────────────────────┼────────────────────────┼───────────────┤\n",
       "│ flatten (\u001b[38;5;33mFlatten\u001b[0m)               │ (\u001b[38;5;45mNone\u001b[0m, \u001b[38;5;34m14400\u001b[0m)          │             \u001b[38;5;34m0\u001b[0m │\n",
       "├─────────────────────────────────┼────────────────────────┼───────────────┤\n",
       "│ dense (\u001b[38;5;33mDense\u001b[0m)                   │ (\u001b[38;5;45mNone\u001b[0m, \u001b[38;5;34m256\u001b[0m)            │     \u001b[38;5;34m3,686,656\u001b[0m │\n",
       "├─────────────────────────────────┼────────────────────────┼───────────────┤\n",
       "│ dense_1 (\u001b[38;5;33mDense\u001b[0m)                 │ (\u001b[38;5;45mNone\u001b[0m, \u001b[38;5;34m10\u001b[0m)             │         \u001b[38;5;34m2,570\u001b[0m │\n",
       "└─────────────────────────────────┴────────────────────────┴───────────────┘\n"
      ]
     },
     "metadata": {},
     "output_type": "display_data"
    },
    {
     "data": {
      "text/html": [
       "<pre style=\"white-space:pre;overflow-x:auto;line-height:normal;font-family:Menlo,'DejaVu Sans Mono',consolas,'Courier New',monospace\"><span style=\"font-weight: bold\"> Total params: </span><span style=\"color: #00af00; text-decoration-color: #00af00\">3,698,938</span> (14.11 MB)\n",
       "</pre>\n"
      ],
      "text/plain": [
       "\u001b[1m Total params: \u001b[0m\u001b[38;5;34m3,698,938\u001b[0m (14.11 MB)\n"
      ]
     },
     "metadata": {},
     "output_type": "display_data"
    },
    {
     "data": {
      "text/html": [
       "<pre style=\"white-space:pre;overflow-x:auto;line-height:normal;font-family:Menlo,'DejaVu Sans Mono',consolas,'Courier New',monospace\"><span style=\"font-weight: bold\"> Trainable params: </span><span style=\"color: #00af00; text-decoration-color: #00af00\">3,698,938</span> (14.11 MB)\n",
       "</pre>\n"
      ],
      "text/plain": [
       "\u001b[1m Trainable params: \u001b[0m\u001b[38;5;34m3,698,938\u001b[0m (14.11 MB)\n"
      ]
     },
     "metadata": {},
     "output_type": "display_data"
    },
    {
     "data": {
      "text/html": [
       "<pre style=\"white-space:pre;overflow-x:auto;line-height:normal;font-family:Menlo,'DejaVu Sans Mono',consolas,'Courier New',monospace\"><span style=\"font-weight: bold\"> Non-trainable params: </span><span style=\"color: #00af00; text-decoration-color: #00af00\">0</span> (0.00 B)\n",
       "</pre>\n"
      ],
      "text/plain": [
       "\u001b[1m Non-trainable params: \u001b[0m\u001b[38;5;34m0\u001b[0m (0.00 B)\n"
      ]
     },
     "metadata": {},
     "output_type": "display_data"
    }
   ],
   "source": [
    "model.summary() #prints the summary of the model, shows the layers, output shape, number of parameters, etc."
   ]
  },
  {
   "cell_type": "markdown",
   "metadata": {},
   "source": [
    "Time to Train!"
   ]
  },
  {
   "cell_type": "code",
   "execution_count": 26,
   "metadata": {},
   "outputs": [],
   "source": [
    "logdir = 'logs'"
   ]
  },
  {
   "cell_type": "code",
   "execution_count": 27,
   "metadata": {},
   "outputs": [],
   "source": [
    "tensorboard_callback = tf.keras.callbacks.TensorBoard(log_dir=logdir) #creates a tensorboard callback to log the training process, logs to the logdir directory"
   ]
  },
  {
   "cell_type": "code",
   "execution_count": null,
   "metadata": {},
   "outputs": [],
   "source": [
    "#from tensorflow.keras.regularizers import l2\n",
    "\n",
    "# model = Sequential()\n",
    "\n",
    "# Adding L2 regularization to Conv2D and Dense layers\n",
    "#model.add(Conv2D(16, (3,3), 1, activation='relu', input_shape=(256,256,3), kernel_regularizer=l2(0.01)))\n",
    "#model.add(MaxPooling2D())\n",
    "\n",
    "#model.add(Conv2D(32, (3,3), 1, activation='relu', kernel_regularizer=l2(0.01)))\n",
    "#model.add(MaxPooling2D())\n",
    "\n",
    "#model.add(Conv2D(16, (3,3), 1, activation='relu', kernel_regularizer=l2(0.01)))\n",
    "#model.add(MaxPooling2D())\n",
    "\n",
    "#model.add(Flatten())\n",
    "\n",
    "#model.add(Dense(256, activation='relu', kernel_regularizer=l2(0.01)))\n",
    "#model.add(Dense(10, activation='softmax', kernel_regularizer=l2(0.01)))"
   ]
  },
  {
   "cell_type": "code",
   "execution_count": 30,
   "metadata": {},
   "outputs": [
    {
     "name": "stdout",
     "output_type": "stream",
     "text": [
      "Epoch 1/20\n",
      "\u001b[1m310/310\u001b[0m \u001b[32m━━━━━━━━━━━━━━━━━━━━\u001b[0m\u001b[37m\u001b[0m \u001b[1m91s\u001b[0m 287ms/step - accuracy: 0.3644 - loss: 1.6338 - val_accuracy: 0.5597 - val_loss: 1.1355\n",
      "Epoch 2/20\n",
      "\u001b[1m310/310\u001b[0m \u001b[32m━━━━━━━━━━━━━━━━━━━━\u001b[0m\u001b[37m\u001b[0m \u001b[1m97s\u001b[0m 312ms/step - accuracy: 0.5605 - loss: 1.1408 - val_accuracy: 0.5732 - val_loss: 1.0959\n",
      "Epoch 3/20\n",
      "\u001b[1m310/310\u001b[0m \u001b[32m━━━━━━━━━━━━━━━━━━━━\u001b[0m\u001b[37m\u001b[0m \u001b[1m95s\u001b[0m 305ms/step - accuracy: 0.5871 - loss: 1.0568 - val_accuracy: 0.5856 - val_loss: 1.0516\n",
      "Epoch 4/20\n",
      "\u001b[1m310/310\u001b[0m \u001b[32m━━━━━━━━━━━━━━━━━━━━\u001b[0m\u001b[37m\u001b[0m \u001b[1m89s\u001b[0m 285ms/step - accuracy: 0.6368 - loss: 0.9284 - val_accuracy: 0.5863 - val_loss: 1.0611\n",
      "Epoch 5/20\n",
      "\u001b[1m310/310\u001b[0m \u001b[32m━━━━━━━━━━━━━━━━━━━━\u001b[0m\u001b[37m\u001b[0m \u001b[1m86s\u001b[0m 276ms/step - accuracy: 0.6879 - loss: 0.8151 - val_accuracy: 0.5941 - val_loss: 1.0784\n",
      "Epoch 6/20\n",
      "\u001b[1m310/310\u001b[0m \u001b[32m━━━━━━━━━━━━━━━━━━━━\u001b[0m\u001b[37m\u001b[0m \u001b[1m104s\u001b[0m 337ms/step - accuracy: 0.7405 - loss: 0.6782 - val_accuracy: 0.5945 - val_loss: 1.2601\n",
      "Epoch 7/20\n",
      "\u001b[1m310/310\u001b[0m \u001b[32m━━━━━━━━━━━━━━━━━━━━\u001b[0m\u001b[37m\u001b[0m \u001b[1m97s\u001b[0m 314ms/step - accuracy: 0.8028 - loss: 0.5441 - val_accuracy: 0.6225 - val_loss: 1.2374\n",
      "Epoch 8/20\n",
      "\u001b[1m310/310\u001b[0m \u001b[32m━━━━━━━━━━━━━━━━━━━━\u001b[0m\u001b[37m\u001b[0m \u001b[1m100s\u001b[0m 322ms/step - accuracy: 0.8483 - loss: 0.4373 - val_accuracy: 0.6161 - val_loss: 1.5679\n",
      "Epoch 9/20\n",
      "\u001b[1m310/310\u001b[0m \u001b[32m━━━━━━━━━━━━━━━━━━━━\u001b[0m\u001b[37m\u001b[0m \u001b[1m96s\u001b[0m 310ms/step - accuracy: 0.8747 - loss: 0.3553 - val_accuracy: 0.6282 - val_loss: 1.6876\n",
      "Epoch 10/20\n",
      "\u001b[1m310/310\u001b[0m \u001b[32m━━━━━━━━━━━━━━━━━━━━\u001b[0m\u001b[37m\u001b[0m \u001b[1m99s\u001b[0m 319ms/step - accuracy: 0.8996 - loss: 0.2986 - val_accuracy: 0.5984 - val_loss: 1.9254\n",
      "Epoch 11/20\n",
      "\u001b[1m310/310\u001b[0m \u001b[32m━━━━━━━━━━━━━━━━━━━━\u001b[0m\u001b[37m\u001b[0m \u001b[1m92s\u001b[0m 296ms/step - accuracy: 0.9182 - loss: 0.2579 - val_accuracy: 0.6204 - val_loss: 1.9658\n",
      "Epoch 12/20\n",
      "\u001b[1m310/310\u001b[0m \u001b[32m━━━━━━━━━━━━━━━━━━━━\u001b[0m\u001b[37m\u001b[0m \u001b[1m92s\u001b[0m 296ms/step - accuracy: 0.9351 - loss: 0.2042 - val_accuracy: 0.6133 - val_loss: 2.2942\n",
      "Epoch 13/20\n",
      "\u001b[1m310/310\u001b[0m \u001b[32m━━━━━━━━━━━━━━━━━━━━\u001b[0m\u001b[37m\u001b[0m \u001b[1m84s\u001b[0m 270ms/step - accuracy: 0.9357 - loss: 0.1974 - val_accuracy: 0.6101 - val_loss: 2.1869\n",
      "Epoch 14/20\n",
      "\u001b[1m310/310\u001b[0m \u001b[32m━━━━━━━━━━━━━━━━━━━━\u001b[0m\u001b[37m\u001b[0m \u001b[1m80s\u001b[0m 259ms/step - accuracy: 0.9572 - loss: 0.1479 - val_accuracy: 0.6186 - val_loss: 2.5313\n",
      "Epoch 15/20\n",
      "\u001b[1m310/310\u001b[0m \u001b[32m━━━━━━━━━━━━━━━━━━━━\u001b[0m\u001b[37m\u001b[0m \u001b[1m81s\u001b[0m 260ms/step - accuracy: 0.9607 - loss: 0.1237 - val_accuracy: 0.6381 - val_loss: 2.4914\n",
      "Epoch 16/20\n",
      "\u001b[1m310/310\u001b[0m \u001b[32m━━━━━━━━━━━━━━━━━━━━\u001b[0m\u001b[37m\u001b[0m \u001b[1m80s\u001b[0m 259ms/step - accuracy: 0.9659 - loss: 0.1184 - val_accuracy: 0.6126 - val_loss: 2.3599\n",
      "Epoch 17/20\n",
      "\u001b[1m310/310\u001b[0m \u001b[32m━━━━━━━━━━━━━━━━━━━━\u001b[0m\u001b[37m\u001b[0m \u001b[1m81s\u001b[0m 261ms/step - accuracy: 0.9663 - loss: 0.1217 - val_accuracy: 0.6328 - val_loss: 2.5329\n",
      "Epoch 18/20\n",
      "\u001b[1m310/310\u001b[0m \u001b[32m━━━━━━━━━━━━━━━━━━━━\u001b[0m\u001b[37m\u001b[0m \u001b[1m100s\u001b[0m 321ms/step - accuracy: 0.9775 - loss: 0.0813 - val_accuracy: 0.6289 - val_loss: 2.6225\n",
      "Epoch 19/20\n",
      "\u001b[1m310/310\u001b[0m \u001b[32m━━━━━━━━━━━━━━━━━━━━\u001b[0m\u001b[37m\u001b[0m \u001b[1m95s\u001b[0m 306ms/step - accuracy: 0.9707 - loss: 0.0991 - val_accuracy: 0.6282 - val_loss: 2.6077\n",
      "Epoch 20/20\n",
      "\u001b[1m310/310\u001b[0m \u001b[32m━━━━━━━━━━━━━━━━━━━━\u001b[0m\u001b[37m\u001b[0m \u001b[1m92s\u001b[0m 295ms/step - accuracy: 0.9787 - loss: 0.0743 - val_accuracy: 0.6190 - val_loss: 2.6658\n"
     ]
    }
   ],
   "source": [
    "#Run Command\n",
    "hist = model.fit(train, epochs=20, validation_data=val, callbacks=[tensorboard_callback])"
   ]
  },
  {
   "cell_type": "code",
   "execution_count": null,
   "metadata": {},
   "outputs": [
    {
     "data": {
      "image/png": "[encoded data removed]",
      "text/plain": [
       "<Figure size 640x480 with 1 Axes>"
      ]
     },
     "metadata": {},
     "output_type": "display_data"
    }
   ],
   "source": [
    "fig = plt.figure()\n",
    "plt.plot(hist.history['loss'], color = 'teal', label ='loss')\n",
    "plt.plot(hist.history['val_loss'], color = 'orange', label = 'val_loss')\n",
    "fig.suptitle('Loss', fontsize=20)\n",
    "plt.legend(loc=\"upper left\")\n",
    "plt.show() "
   ]
  },
  {
   "cell_type": "code",
   "execution_count": null,
   "metadata": {},
   "outputs": [
    {
     "data": {
      "text/plain": [
       "{'accuracy': [0.4574596881866455,\n",
       "  0.5691532492637634,\n",
       "  0.598487913608551,\n",
       "  0.6471773982048035,\n",
       "  0.6993951797485352,\n",
       "  0.7566532492637634,\n",
       "  0.8151209950447083,\n",
       "  0.8555443286895752,\n",
       "  0.8850806355476379,\n",
       "  0.9090725779533386,\n",
       "  0.9303427338600159,\n",
       "  0.9385080933570862,\n",
       "  0.9435483813285828,\n",
       "  0.9598790407180786,\n",
       "  0.9670363068580627,\n",
       "  0.9677419066429138,\n",
       "  0.969556450843811,\n",
       "  0.9764112830162048,\n",
       "  0.9723790287971497,\n",
       "  0.9779233932495117],\n",
       " 'loss': [1.3962699174880981,\n",
       "  1.1122822761535645,\n",
       "  1.0307338237762451,\n",
       "  0.9107924103736877,\n",
       "  0.7942650318145752,\n",
       "  0.6482600569725037,\n",
       "  0.5199028849601746,\n",
       "  0.415877103805542,\n",
       "  0.33158811926841736,\n",
       "  0.2766162157058716,\n",
       "  0.22838547825813293,\n",
       "  0.19850042462348938,\n",
       "  0.17829687893390656,\n",
       "  0.14044420421123505,\n",
       "  0.1104620024561882,\n",
       "  0.1087334081530571,\n",
       "  0.10891713947057724,\n",
       "  0.08465934544801712,\n",
       "  0.09430402517318726,\n",
       "  0.08002227544784546],\n",
       " 'val_accuracy': [0.5596590638160706,\n",
       "  0.5731534361839294,\n",
       "  0.5855823755264282,\n",
       "  0.5862926244735718,\n",
       "  0.5941051244735718,\n",
       "  0.5944602489471436,\n",
       "  0.6225141882896423,\n",
       "  0.6161221861839294,\n",
       "  0.6281960010528564,\n",
       "  0.5983664989471436,\n",
       "  0.6203835010528564,\n",
       "  0.61328125,\n",
       "  0.6100852489471436,\n",
       "  0.6186079382896423,\n",
       "  0.6381391882896423,\n",
       "  0.6125710010528564,\n",
       "  0.6328125,\n",
       "  0.62890625,\n",
       "  0.6281960010528564,\n",
       "  0.6189630627632141],\n",
       " 'val_loss': [1.1355057954788208,\n",
       "  1.0959261655807495,\n",
       "  1.0516167879104614,\n",
       "  1.0610915422439575,\n",
       "  1.078406810760498,\n",
       "  1.2601375579833984,\n",
       "  1.2374247312545776,\n",
       "  1.5679470300674438,\n",
       "  1.6876239776611328,\n",
       "  1.9254257678985596,\n",
       "  1.9657700061798096,\n",
       "  2.294238805770874,\n",
       "  2.186861038208008,\n",
       "  2.5312561988830566,\n",
       "  2.4914021492004395,\n",
       "  2.359896183013916,\n",
       "  2.532867670059204,\n",
       "  2.6224935054779053,\n",
       "  2.607651948928833,\n",
       "  2.6657702922821045]}"
      ]
     },
     "execution_count": 40,
     "metadata": {},
     "output_type": "execute_result"
    }
   ],
   "source": [
    "hist.history #MODEL IS OVERFITTING ^ APPLY REGULARIZATION"
   ]
  },
  {
   "cell_type": "code",
   "execution_count": 34,
   "metadata": {},
   "outputs": [
    {
     "name": "stderr",
     "output_type": "stream",
     "text": [
      "WARNING:absl:You are saving your model as an HDF5 file via `model.save()` or `keras.saving.save_model(model)`. This file format is considered legacy. We recommend using instead the native Keras format, e.g. `model.save('my_model.keras')` or `keras.saving.save_model(model, 'my_model.keras')`. \n"
     ]
    }
   ],
   "source": [
    "from tensorflow.keras.models import load_model #type: ignore\n",
    "model.save(os.path.join('models', 'chairtwo.h5'))"
   ]
  },
  {
   "cell_type": "code",
   "execution_count": 35,
   "metadata": {},
   "outputs": [
    {
     "name": "stderr",
     "output_type": "stream",
     "text": [
      "WARNING:absl:Compiled the loaded model, but the compiled metrics have yet to be built. `model.compile_metrics` will be empty until you train or evaluate the model.\n"
     ]
    }
   ],
   "source": [
    "new_model = load_model(os.path.join('models', 'chairtwo.h5'))"
   ]
  }
 ],
 "metadata": {
  "kernelspec": {
   "display_name": ".venv",
   "language": "python",
   "name": "python3"
  },
  "language_info": {
   "codemirror_mode": {
    "name": "ipython",
    "version": 3
   },
   "file_extension": ".py",
   "mimetype": "text/x-python",
   "name": "python",
   "nbconvert_exporter": "python",
   "pygments_lexer": "ipython3",
   "version": "3.12.0"
  }
 },
 "nbformat": 4,
 "nbformat_minor": 2
}
