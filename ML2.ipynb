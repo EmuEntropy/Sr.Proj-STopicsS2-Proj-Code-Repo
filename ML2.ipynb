{
 "cells": [
  {
   "cell_type": "code",
   "execution_count": 1,
   "metadata": {},
   "outputs": [
    {
     "name": "stderr",
     "output_type": "stream",
     "text": [
      "C:\\Users\\maxkr\\AppData\\Local\\Temp\\ipykernel_16656\\1700199923.py:13: DeprecationWarning: 'imghdr' is deprecated and slated for removal in Python 3.13\n",
      "  import imghdr #type: ignore\n"
     ]
    }
   ],
   "source": [
    "#Import Statements\n",
    "import tensorflow as tf\n",
    "from keras.models import Sequential # type: ignore\n",
    "from keras.layers import Conv2D, MaxPooling2D, Flatten, Dense, Dropout # type: ignore\n",
    "from keras.applications import MobileNetV2 # type: ignore\n",
    "from tensorflow.keras.preprocessing.image import ImageDataGenerator # type: ignore\n",
    "from keras.optimizers import Adam # type: ignore\n",
    "import numpy as np  # type: ignore # for numerical operations\n",
    "import pandas as pd  # type: ignore # for dataset operations\n",
    "import matplotlib.pyplot as plt # type: ignore # for plotting\n",
    "import os # for file operations\n",
    "import cv2 # type: ignore # for image processing\n",
    "import imghdr #type: ignore\n",
    "from tensorflow.keras.layers import Conv2D, MaxPooling2D, Dense, Flatten, Dropout #type: ignore\n"
   ]
  },
  {
   "cell_type": "code",
   "execution_count": 2,
   "metadata": {},
   "outputs": [],
   "source": [
    "cpus = tf.config.experimental.list_physical_devices('CPU')"
   ]
  },
  {
   "cell_type": "code",
   "execution_count": 3,
   "metadata": {},
   "outputs": [
    {
     "data": {
      "text/plain": [
       "[PhysicalDevice(name='/physical_device:CPU:0', device_type='CPU')]"
      ]
     },
     "execution_count": 3,
     "metadata": {},
     "output_type": "execute_result"
    }
   ],
   "source": [
    "cpus"
   ]
  },
  {
   "cell_type": "code",
   "execution_count": 4,
   "metadata": {},
   "outputs": [],
   "source": [
    "#Avoid OOM errors by setting GPU memory consumption growth\n",
    "#Only Run if using the alienware for training\n",
    "gpus = tf.config.experimental.list_physical_devices('GPU')\n",
    "for gpu in gpus:\n",
    "    tf.config.experimental.set_memory_growth(gpu, True)"
   ]
  },
  {
   "cell_type": "markdown",
   "metadata": {},
   "source": [
    "    Remove corrupt/incompatible images"
   ]
  },
  {
   "cell_type": "code",
   "execution_count": 5,
   "metadata": {},
   "outputs": [
    {
     "data": {
      "text/plain": [
       "['Atopic Dermatitis - 1257',\n",
       " 'Benign Keratosis-like Lesions (BKL) -2079',\n",
       " 'Eczema - 1677',\n",
       " 'Melanoma - 3140',\n",
       " 'Psoriasis pictures Lichen Planus and related diseases - 2055',\n",
       " 'Seborrheic Keratoses and other Benign Tumors - 1847',\n",
       " 'Warts Molluscum and other Viral Infections - 2103']"
      ]
     },
     "execution_count": 5,
     "metadata": {},
     "output_type": "execute_result"
    }
   ],
   "source": [
    "data_dir = \"data\"\n",
    "os.listdir(data_dir)"
   ]
  },
  {
   "cell_type": "code",
   "execution_count": 6,
   "metadata": {},
   "outputs": [],
   "source": [
    "image_exts = ['jpeg', 'jpg', 'bmp', 'png']"
   ]
  },
  {
   "cell_type": "code",
   "execution_count": 7,
   "metadata": {},
   "outputs": [],
   "source": [
    "#for image_class in os.listdir(data_dir):\n",
    "    #for image in os.listdir(os.path.join(data_dir, image_class)):\n",
    "        #image_path = os.path.join(data_dir, image_class, image)\n",
    "        #try: \n",
    "            #img = cv2.imread(image_path) #checking for valid image path and valid image extension\n",
    "            #tip = imghdr.what(image_path)\n",
    "            #if tip not in image_exts:\n",
    "                #print('Image not in ext list {}'.format(image_path))\n",
    "                #os.remove(image_path)\n",
    "        #except Exception as e:\n",
    "            #print('Issue with image {}'.format(image_path))\n",
    "\n",
    "            # 2m 52.5s"
   ]
  },
  {
   "cell_type": "markdown",
   "metadata": {},
   "source": [
    "load data (using pipeline to avoid loading data into memory simultaneously), Data isn't preloaded into memory rather generated on the fly by the pipeline, meaning we cant do data[0] to view our dataset, we have to do more complicated procedure. This step is absolutely necessary because of the massive size of our dataset..."
   ]
  },
  {
   "cell_type": "code",
   "execution_count": 8,
   "metadata": {},
   "outputs": [
    {
     "name": "stdout",
     "output_type": "stream",
     "text": [
      "Found 14158 files belonging to 7 classes.\n"
     ]
    }
   ],
   "source": [
    "data = tf.keras.utils.image_dataset_from_directory('data') #creates batch size, image size, etc.."
   ]
  },
  {
   "cell_type": "code",
   "execution_count": 9,
   "metadata": {},
   "outputs": [
    {
     "data": {
      "text/plain": [
       "2"
      ]
     },
     "execution_count": 9,
     "metadata": {},
     "output_type": "execute_result"
    }
   ],
   "source": [
    "data_iterator = data.as_numpy_iterator() #creates an iterator for the dataset, #allows us to access data pipeline\n",
    "batch = data_iterator.next() #gets the next batch of data from the iterator, #accesses data pipeline\n",
    "#batch\n",
    "len(batch)"
   ]
  },
  {
   "cell_type": "code",
   "execution_count": 10,
   "metadata": {},
   "outputs": [
    {
     "data": {
      "text/plain": [
       "(32, 256, 256, 3)"
      ]
     },
     "execution_count": 10,
     "metadata": {},
     "output_type": "execute_result"
    }
   ],
   "source": [
    "batch[0].shape #batch[0] is the images, batch[1] is the labels"
   ]
  },
  {
   "cell_type": "code",
   "execution_count": 11,
   "metadata": {},
   "outputs": [
    {
     "data": {
      "text/plain": [
       "array([1, 6, 6, 3, 6, 3, 0, 5, 6, 6, 3, 4, 3, 1, 5, 3, 1, 6, 1, 2, 2, 3,\n",
       "       3, 4, 6, 3, 2, 0, 5, 4, 1, 0], dtype=int32)"
      ]
     },
     "execution_count": 11,
     "metadata": {},
     "output_type": "execute_result"
    }
   ],
   "source": [
    "batch[1]"
   ]
  },
  {
   "cell_type": "code",
   "execution_count": 12,
   "metadata": {},
   "outputs": [],
   "source": [
    "#fig, ax = plt.subplots(ncols=4, figsize=(20, 20)) #creates a figure with 4 subplots\n",
    "#for idx, img in enumerate(batch[0][:4]): #iterates over the first 4 images in the batch\n",
    "        #ax[idx].imshow(img.astype('uint8')) #displays the image in the subplot\n",
    "        #ax[idx].set_title(batch[1][idx]) #sets the title of the subplot to the label of the image\n",
    "        #ax[idx].axis('off') #turns off the axis for the subplot\n",
    "\n",
    "        #images in key/index 0, labels in key/index 1"
   ]
  },
  {
   "cell_type": "markdown",
   "metadata": {},
   "source": [
    "Preprocessing Data"
   ]
  },
  {
   "cell_type": "code",
   "execution_count": 13,
   "metadata": {},
   "outputs": [
    {
     "data": {
      "text/plain": [
       "np.float32(255.0)"
      ]
     },
     "execution_count": 13,
     "metadata": {},
     "output_type": "execute_result"
    }
   ],
   "source": [
    "batch[0].max()"
   ]
  },
  {
   "cell_type": "code",
   "execution_count": 14,
   "metadata": {},
   "outputs": [
    {
     "data": {
      "text/plain": [
       "np.float32(1.0)"
      ]
     },
     "execution_count": 14,
     "metadata": {},
     "output_type": "execute_result"
    }
   ],
   "source": [
    "scaled = batch[0] / 255\n",
    "scaled.max() #max value of the scaled image is 1, min value is 0"
   ]
  },
  {
   "cell_type": "code",
   "execution_count": 15,
   "metadata": {},
   "outputs": [
    {
     "data": {
      "text/plain": [
       "(array([[[[0.13360907, 0.13360907, 0.16498162],\n",
       "          [0.13233475, 0.13233475, 0.1637073 ],\n",
       "          [0.12876838, 0.12876838, 0.16014093],\n",
       "          ...,\n",
       "          [0.27287933, 0.18317345, 0.20422123],\n",
       "          [0.41129652, 0.21928999, 0.24627852],\n",
       "          [0.34517655, 0.23475988, 0.21723537]],\n",
       " \n",
       "         [[0.12530924, 0.12530924, 0.15668179],\n",
       "          [0.13504902, 0.13504902, 0.16642156],\n",
       "          [0.13417585, 0.13417585, 0.16554841],\n",
       "          ...,\n",
       "          [0.21047172, 0.12169931, 0.14930348],\n",
       "          [0.48567662, 0.2979468 , 0.33441377],\n",
       "          [0.27030006, 0.15787809, 0.14326124]],\n",
       " \n",
       "         [[0.13402028, 0.13402028, 0.16539283],\n",
       "          [0.13589872, 0.13589872, 0.16727127],\n",
       "          [0.12340686, 0.12340686, 0.1547794 ],\n",
       "          ...,\n",
       "          [0.19898179, 0.11239085, 0.14692575],\n",
       "          [0.35409725, 0.18141037, 0.22113253],\n",
       "          [0.25391248, 0.13743202, 0.13701843]],\n",
       " \n",
       "         ...,\n",
       " \n",
       "         [[0.14080882, 0.14080882, 0.17218137],\n",
       "          [0.13946079, 0.13946079, 0.17083333],\n",
       "          [0.13933824, 0.13933824, 0.17071079],\n",
       "          ...,\n",
       "          [0.8508119 , 0.5763021 , 0.5377911 ],\n",
       "          [0.83289725, 0.55999684, 0.529474  ],\n",
       "          [0.86280495, 0.5922828 , 0.5719372 ]],\n",
       " \n",
       "         [[0.14738195, 0.14738195, 0.1787545 ],\n",
       "          [0.14338236, 0.14338236, 0.1747549 ],\n",
       "          [0.14279306, 0.14279306, 0.1741656 ],\n",
       "          ...,\n",
       "          [0.86122954, 0.5867197 , 0.547504  ],\n",
       "          [0.7846335 , 0.51122665, 0.48095703],\n",
       "          [0.8359179 , 0.5653296 , 0.54572177]],\n",
       " \n",
       "         [[0.14828432, 0.14828432, 0.17965686],\n",
       "          [0.14456046, 0.14456046, 0.175933  ],\n",
       "          [0.14325981, 0.14325981, 0.17463236],\n",
       "          ...,\n",
       "          [0.8607125 , 0.5862027 , 0.546987  ],\n",
       "          [0.80495363, 0.5315468 , 0.5012772 ],\n",
       "          [0.83013415, 0.5595459 , 0.53993803]]],\n",
       " \n",
       " \n",
       "        [[[0.05068934, 0.08264399, 0.09411765],\n",
       "          [0.04793198, 0.08714767, 0.09499081],\n",
       "          [0.05098039, 0.09165135, 0.09949449],\n",
       "          ...,\n",
       "          [0.10094976, 0.21859682, 0.24996936],\n",
       "          [0.09499081, 0.20958947, 0.24096201],\n",
       "          [0.08685662, 0.2005821 , 0.23195466]],\n",
       " \n",
       "         [[0.05382966, 0.08578432, 0.09725796],\n",
       "          [0.0510723 , 0.09028799, 0.09813113],\n",
       "          [0.05295536, 0.09362631, 0.10146945],\n",
       "          ...,\n",
       "          [0.09780943, 0.2154565 , 0.24682905],\n",
       "          [0.09185049, 0.20644914, 0.2378217 ],\n",
       "          [0.0895308 , 0.20325628, 0.23462884]],\n",
       " \n",
       "         [[0.05723039, 0.08918505, 0.1006587 ],\n",
       "          [0.05330655, 0.09310548, 0.10094862],\n",
       "          [0.05179928, 0.09411765, 0.10196079],\n",
       "          ...,\n",
       "          [0.10323923, 0.22088629, 0.25225884],\n",
       "          [0.09630821, 0.21090686, 0.24227941],\n",
       "          [0.09543505, 0.20916054, 0.24053308]],\n",
       " \n",
       "         ...,\n",
       " \n",
       "         [[0.0077465 , 0.02343277, 0.0195112 ],\n",
       "          [0.00595781, 0.02164408, 0.01772252],\n",
       "          [0.00392157, 0.01960784, 0.01568628],\n",
       "          ...,\n",
       "          [0.        , 0.        , 0.        ],\n",
       "          [0.        , 0.        , 0.        ],\n",
       "          [0.        , 0.        , 0.        ]],\n",
       " \n",
       "         [[0.00755208, 0.02323836, 0.01931679],\n",
       "          [0.00392157, 0.01960784, 0.01568628],\n",
       "          [0.00392157, 0.01960784, 0.01568628],\n",
       "          ...,\n",
       "          [0.        , 0.        , 0.        ],\n",
       "          [0.        , 0.        , 0.        ],\n",
       "          [0.        , 0.        , 0.        ]],\n",
       " \n",
       "         [[0.00755208, 0.02323836, 0.01931679],\n",
       "          [0.00392157, 0.01960784, 0.01568628],\n",
       "          [0.00392157, 0.01960784, 0.01568628],\n",
       "          ...,\n",
       "          [0.        , 0.        , 0.        ],\n",
       "          [0.        , 0.        , 0.        ],\n",
       "          [0.        , 0.        , 0.        ]]],\n",
       " \n",
       " \n",
       "        [[[0.67898023, 0.5121503 , 0.5497295 ],\n",
       "          [0.687332  , 0.51144207, 0.5515546 ],\n",
       "          [0.68688273, 0.53165716, 0.5551844 ],\n",
       "          ...,\n",
       "          [0.6530745 , 0.48756772, 0.51711285],\n",
       "          [0.6659699 , 0.49312145, 0.5287995 ],\n",
       "          [0.6539522 , 0.48744878, 0.5101261 ]],\n",
       " \n",
       "         [[0.6755292 , 0.51088315, 0.54205847],\n",
       "          [0.68943995, 0.5097678 , 0.54717445],\n",
       "          [0.70249045, 0.5199295 , 0.53727907],\n",
       "          ...,\n",
       "          [0.6733592 , 0.49435222, 0.5263995 ],\n",
       "          [0.64431536, 0.4868468 , 0.5171554 ],\n",
       "          [0.6614899 , 0.499955  , 0.52653235]],\n",
       " \n",
       "         [[0.6752822 , 0.50533307, 0.524652  ],\n",
       "          [0.689776  , 0.5100361 , 0.52347773],\n",
       "          [0.69693625, 0.5172567 , 0.52507657],\n",
       "          ...,\n",
       "          [0.6480579 , 0.4850354 , 0.5084916 ],\n",
       "          [0.668301  , 0.5004878 , 0.53443795],\n",
       "          [0.6636819 , 0.51479566, 0.53767496]],\n",
       " \n",
       "         ...,\n",
       " \n",
       "         [[0.66694456, 0.5437565 , 0.58804476],\n",
       "          [0.70429975, 0.5634103 , 0.61755276],\n",
       "          [0.6900996 , 0.55752885, 0.6155683 ],\n",
       "          ...,\n",
       "          [0.6396111 , 0.47545335, 0.53524196],\n",
       "          [0.6652743 , 0.49393383, 0.5522277 ],\n",
       "          [0.67412466, 0.5049829 , 0.5575279 ]],\n",
       " \n",
       "         [[0.67046523, 0.54042584, 0.59038687],\n",
       "          [0.6836802 , 0.542732  , 0.5898605 ],\n",
       "          [0.66622   , 0.5401171 , 0.58648896],\n",
       "          ...,\n",
       "          [0.65424496, 0.47911832, 0.52621424],\n",
       "          [0.66163665, 0.5006518 , 0.55559826],\n",
       "          [0.69133705, 0.5247697 , 0.58078253]],\n",
       " \n",
       "         [[0.665541  , 0.53313416, 0.5772698 ],\n",
       "          [0.6602017 , 0.5308977 , 0.57413423],\n",
       "          [0.67077875, 0.53420866, 0.5831342 ],\n",
       "          ...,\n",
       "          [0.64736307, 0.48714983, 0.5240809 ],\n",
       "          [0.68787605, 0.50726056, 0.55127144],\n",
       "          [0.69972426, 0.52646315, 0.5692507 ]]],\n",
       " \n",
       " \n",
       "        ...,\n",
       " \n",
       " \n",
       "        [[[0.04050245, 0.02089461, 0.03658088],\n",
       "          [0.04095627, 0.02134842, 0.0370347 ],\n",
       "          [0.03529412, 0.01960784, 0.02352941],\n",
       "          ...,\n",
       "          [0.01960784, 0.01176471, 0.01568628],\n",
       "          [0.02352941, 0.01568628, 0.01960784],\n",
       "          [0.03137255, 0.01568628, 0.01960784]],\n",
       " \n",
       "         [[0.04360256, 0.02399472, 0.03968099],\n",
       "          [0.03892272, 0.01931487, 0.03500115],\n",
       "          [0.03768574, 0.02199946, 0.02592103],\n",
       "          ...,\n",
       "          [0.01960784, 0.01176471, 0.01568628],\n",
       "          [0.02573529, 0.01568628, 0.01960784],\n",
       "          [0.03137255, 0.01568628, 0.01960784]],\n",
       " \n",
       "         [[0.04383234, 0.02422449, 0.03991077],\n",
       "          [0.03854167, 0.02175245, 0.02898284],\n",
       "          [0.04105392, 0.02536765, 0.02928922],\n",
       "          ...,\n",
       "          [0.01960784, 0.01176471, 0.01568628],\n",
       "          [0.03137255, 0.01568628, 0.01960784],\n",
       "          [0.03137255, 0.01568628, 0.01960784]],\n",
       " \n",
       "         ...,\n",
       " \n",
       "         [[0.0625    , 0.03897059, 0.05465686],\n",
       "          [0.06464843, 0.04111902, 0.0568053 ],\n",
       "          [0.059375  , 0.03584559, 0.05153186],\n",
       "          ...,\n",
       "          [0.05870098, 0.03517157, 0.04301471],\n",
       "          [0.07157055, 0.04473231, 0.05367839],\n",
       "          [0.08124808, 0.04595397, 0.05771867]],\n",
       " \n",
       "         [[0.06720474, 0.04367532, 0.0593616 ],\n",
       "          [0.06806257, 0.04453316, 0.06021944],\n",
       "          [0.0747549 , 0.05122549, 0.06691176],\n",
       "          ...,\n",
       "          [0.07701632, 0.0534869 , 0.06133004],\n",
       "          [0.06991421, 0.04307598, 0.05202206],\n",
       "          [0.08201019, 0.04671607, 0.05848078]],\n",
       " \n",
       "         [[0.06136834, 0.03783892, 0.0535252 ],\n",
       "          [0.07474341, 0.051214  , 0.06690028],\n",
       "          [0.06764898, 0.04411956, 0.05980584],\n",
       "          ...,\n",
       "          [0.08190487, 0.05837546, 0.0662186 ],\n",
       "          [0.07113971, 0.04430147, 0.05324755],\n",
       "          [0.07040824, 0.03511412, 0.04687883]]],\n",
       " \n",
       " \n",
       "        [[[0.6970588 , 0.5362745 , 0.5990196 ],\n",
       "          [0.7176471 , 0.54901963, 0.6156863 ],\n",
       "          [0.6990196 , 0.53039217, 0.59705883],\n",
       "          ...,\n",
       "          [0.70490193, 0.50490195, 0.5245098 ],\n",
       "          [0.7058824 , 0.49803922, 0.5294118 ],\n",
       "          [0.6617647 , 0.45392156, 0.4852941 ]],\n",
       " \n",
       "         [[0.6960784 , 0.5441176 , 0.6039216 ],\n",
       "          [0.70392156, 0.54019606, 0.595098  ],\n",
       "          [0.71960783, 0.5470588 , 0.60588235],\n",
       "          ...,\n",
       "          [0.7019608 , 0.5019608 , 0.52156866],\n",
       "          [0.69215685, 0.48431373, 0.50784314],\n",
       "          [0.6637255 , 0.45588234, 0.4872549 ]],\n",
       " \n",
       "         [[0.6960784 , 0.5470588 , 0.60588235],\n",
       "          [0.7029412 , 0.54019606, 0.595098  ],\n",
       "          [0.7029412 , 0.53137255, 0.57941175],\n",
       "          ...,\n",
       "          [0.7147059 , 0.51862746, 0.53039217],\n",
       "          [0.6970588 , 0.49313724, 0.5088235 ],\n",
       "          [0.66862744, 0.46078432, 0.48431373]],\n",
       " \n",
       "         ...,\n",
       " \n",
       "         [[0.61960787, 0.4745098 , 0.5058824 ],\n",
       "          [0.6392157 , 0.49411765, 0.5254902 ],\n",
       "          [0.65392154, 0.5088235 , 0.54019606],\n",
       "          ...,\n",
       "          [0.69215685, 0.5509804 , 0.60588235],\n",
       "          [0.6784314 , 0.5372549 , 0.5921569 ],\n",
       "          [0.6607843 , 0.51960784, 0.5745098 ]],\n",
       " \n",
       "         [[0.62941176, 0.48039216, 0.5235294 ],\n",
       "          [0.64215684, 0.5009804 , 0.54019606],\n",
       "          [0.6460784 , 0.50490195, 0.5441176 ],\n",
       "          ...,\n",
       "          [0.6617647 , 0.5205882 , 0.5754902 ],\n",
       "          [0.66862744, 0.527451  , 0.58235294],\n",
       "          [0.6666667 , 0.5176471 , 0.5764706 ]],\n",
       " \n",
       "         [[0.62647057, 0.4852941 , 0.5245098 ],\n",
       "          [0.6362745 , 0.49509802, 0.53431374],\n",
       "          [0.6480392 , 0.50686276, 0.54607844],\n",
       "          ...,\n",
       "          [0.63529414, 0.49411765, 0.54901963],\n",
       "          [0.66862744, 0.527451  , 0.58235294],\n",
       "          [0.6852941 , 0.5362745 , 0.595098  ]]],\n",
       " \n",
       " \n",
       "        [[[0.00196078, 0.00196078, 0.00196078],\n",
       "          [0.00098039, 0.00098039, 0.00098039],\n",
       "          [0.        , 0.        , 0.        ],\n",
       "          ...,\n",
       "          [0.00098039, 0.00098039, 0.00098039],\n",
       "          [0.00294118, 0.00294118, 0.00294118],\n",
       "          [0.00294118, 0.00294118, 0.00294118]],\n",
       " \n",
       "         [[0.00196078, 0.00196078, 0.00196078],\n",
       "          [0.00098039, 0.00098039, 0.00098039],\n",
       "          [0.        , 0.        , 0.        ],\n",
       "          ...,\n",
       "          [0.00098039, 0.00098039, 0.00098039],\n",
       "          [0.00098039, 0.00098039, 0.00098039],\n",
       "          [0.        , 0.        , 0.        ]],\n",
       " \n",
       "         [[0.00294118, 0.00294118, 0.00294118],\n",
       "          [0.00392157, 0.00392157, 0.00392157],\n",
       "          [0.00490196, 0.00490196, 0.00490196],\n",
       "          ...,\n",
       "          [0.00294118, 0.00294118, 0.00294118],\n",
       "          [0.00294118, 0.00294118, 0.00294118],\n",
       "          [0.        , 0.        , 0.        ]],\n",
       " \n",
       "         ...,\n",
       " \n",
       "         [[0.00098039, 0.00588235, 0.00294118],\n",
       "          [0.00588235, 0.00980392, 0.00784314],\n",
       "          [0.00098039, 0.00392157, 0.00098039],\n",
       "          ...,\n",
       "          [0.00098039, 0.00098039, 0.00098039],\n",
       "          [0.00686275, 0.00686275, 0.00686275],\n",
       "          [0.00196078, 0.00196078, 0.00196078]],\n",
       " \n",
       "         [[0.00686275, 0.00686275, 0.00686275],\n",
       "          [0.00294118, 0.00294118, 0.00294118],\n",
       "          [0.00098039, 0.00098039, 0.00098039],\n",
       "          ...,\n",
       "          [0.        , 0.        , 0.        ],\n",
       "          [0.00294118, 0.00294118, 0.00294118],\n",
       "          [0.00098039, 0.00098039, 0.00098039]],\n",
       " \n",
       "         [[0.        , 0.00196078, 0.        ],\n",
       "          [0.00392157, 0.00686275, 0.00490196],\n",
       "          [0.        , 0.00392157, 0.00196078],\n",
       "          ...,\n",
       "          [0.        , 0.        , 0.        ],\n",
       "          [0.        , 0.        , 0.        ],\n",
       "          [0.00098039, 0.00098039, 0.00098039]]]], dtype=float32),\n",
       " array([6, 2, 1, 3, 6, 2, 2, 2, 2, 4, 3, 3, 4, 4, 0, 4, 4, 3, 0, 3, 3, 3,\n",
       "        1, 1, 3, 1, 1, 3, 6, 0, 3, 1], dtype=int32))"
      ]
     },
     "execution_count": 15,
     "metadata": {},
     "output_type": "execute_result"
    }
   ],
   "source": [
    "data = data.map(lambda x, y: (x / 255, y)) #scales the images to be between 0 and 1\n",
    "data.as_numpy_iterator().next() #gets the next batch of data from the iterator, #accesses data pipeline\n"
   ]
  },
  {
   "cell_type": "code",
   "execution_count": 16,
   "metadata": {},
   "outputs": [
    {
     "data": {
      "text/plain": [
       "np.float32(1.0)"
      ]
     },
     "execution_count": 16,
     "metadata": {},
     "output_type": "execute_result"
    }
   ],
   "source": [
    "scaled_iterator = data.as_numpy_iterator() #creates an iterator for the dataset, #allows us to access data pipeline\n",
    "scaled_batch = scaled_iterator.next() #gets the next batch of data from the iterator, #accesses data pipeline\n",
    "scaled_batch[0].max() #max value of the scaled image is 1, min value is 0"
   ]
  },
  {
   "cell_type": "code",
   "execution_count": 17,
   "metadata": {},
   "outputs": [],
   "source": [
    "#fig, ax = plt.subplots(ncols=4, figsize=(20, 20)) #creates a figure with 4 subplots\n",
    "#for idx, img in enumerate(scaled_batch[0][:4]): #iterates over the first 4 images in the batch\n",
    "        #ax[idx].imshow(img) #displays the image in the subplot\n",
    "        #ax[idx].set_title(scaled_batch[1][idx]) #sets the title of the subplot to the label of the image\n",
    "        #ax[idx].axis('off') #turns off the axis for the subplot\n",
    "\n",
    "        #images in key/index 0, labels in key/index 1"
   ]
  },
  {
   "cell_type": "markdown",
   "metadata": {},
   "source": [
    "Scaling Images"
   ]
  },
  {
   "cell_type": "code",
   "execution_count": 18,
   "metadata": {},
   "outputs": [
    {
     "data": {
      "text/plain": [
       "443"
      ]
     },
     "execution_count": 18,
     "metadata": {},
     "output_type": "execute_result"
    }
   ],
   "source": [
    "len(data)\n",
    "#number of batches total, each batch has 32 images"
   ]
  },
  {
   "cell_type": "code",
   "execution_count": 19,
   "metadata": {},
   "outputs": [],
   "source": [
    "train_size = int(len(data) * 0.7) #70% of the data is used for training #310 images per batch\n",
    "val_size = int(len(data) * 0.2) #20% of the data is used for validation #88 images per batch\n",
    "test_size = int(len(data) * 0.1) #10% of the data is used for testing #44 images per batch"
   ]
  },
  {
   "cell_type": "code",
   "execution_count": 20,
   "metadata": {},
   "outputs": [
    {
     "data": {
      "text/plain": [
       "442"
      ]
     },
     "execution_count": 20,
     "metadata": {},
     "output_type": "execute_result"
    }
   ],
   "source": [
    "test_size+val_size+train_size"
   ]
  },
  {
   "cell_type": "code",
   "execution_count": 21,
   "metadata": {},
   "outputs": [
    {
     "data": {
      "text/plain": [
       "(310, 88, 44)"
      ]
     },
     "execution_count": 21,
     "metadata": {},
     "output_type": "execute_result"
    }
   ],
   "source": [
    "train = data.take(train_size) #takes the first 70% of the data for training\n",
    "val = data.skip(train_size).take(val_size) #takes the next 20% of the data for validation\n",
    "test = data.skip(train_size + val_size).take(test_size) #takes the last 10% of the data for testing\n",
    "len(train), len(val), len(test) #number of batches in each dataset"
   ]
  },
  {
   "cell_type": "markdown",
   "metadata": {},
   "source": [
    "Building the Actual Models"
   ]
  },
  {
   "cell_type": "code",
   "execution_count": 22,
   "metadata": {},
   "outputs": [],
   "source": [
    "model = Sequential()"
   ]
  },
  {
   "cell_type": "code",
   "execution_count": 23,
   "metadata": {},
   "outputs": [
    {
     "name": "stderr",
     "output_type": "stream",
     "text": [
      "c:\\Users\\maxkr\\Documents\\Sr.Proj-STopicsS2-Proj-Code-Repo\\.venv\\Lib\\site-packages\\keras\\src\\layers\\convolutional\\base_conv.py:107: UserWarning: Do not pass an `input_shape`/`input_dim` argument to a layer. When using Sequential models, prefer using an `Input(shape)` object as the first layer in the model instead.\n",
      "  super().__init__(activity_regularizer=activity_regularizer, **kwargs)\n"
     ]
    }
   ],
   "source": [
    "model.add(Conv2D(16, (3,3), 1, activation='relu', input_shape=(256,256,3))) #first layer, input, 3 channels, stride of 1, 16 filters\n",
    "model.add(MaxPooling2D()) #takes max values after relu activation and returns that value and condenses the information (by half)\n",
    "\n",
    "model.add(Conv2D(32, (3,3), 1, activation='relu'))\n",
    "model.add(MaxPooling2D())\n",
    "\n",
    "model.add(Conv2D(16, (3,3), 1, activation='relu'))\n",
    "model.add(MaxPooling2D())\n",
    "\n",
    "model.add(Flatten())\n",
    "\n",
    "model.add(Dense(256, activation = 'relu'))\n",
    "model.add(Dense(10, activation = 'softmax')) #output layer, 10 neurons, softmax activation function"
   ]
  },
  {
   "cell_type": "code",
   "execution_count": 24,
   "metadata": {},
   "outputs": [],
   "source": [
    "model.compile('adam', loss=tf.losses.SparseCategoricalCrossentropy(), metrics=['accuracy']) #compiles the model, adam optimizer, binary crossentropy loss function, accuracy metric"
   ]
  },
  {
   "cell_type": "code",
   "execution_count": 25,
   "metadata": {},
   "outputs": [
    {
     "data": {
      "text/html": [
       "<pre style=\"white-space:pre;overflow-x:auto;line-height:normal;font-family:Menlo,'DejaVu Sans Mono',consolas,'Courier New',monospace\"><span style=\"font-weight: bold\">Model: \"sequential\"</span>\n",
       "</pre>\n"
      ],
      "text/plain": [
       "\u001b[1mModel: \"sequential\"\u001b[0m\n"
      ]
     },
     "metadata": {},
     "output_type": "display_data"
    },
    {
     "data": {
      "text/html": [
       "<pre style=\"white-space:pre;overflow-x:auto;line-height:normal;font-family:Menlo,'DejaVu Sans Mono',consolas,'Courier New',monospace\">┏━━━━━━━━━━━━━━━━━━━━━━━━━━━━━━━━━┳━━━━━━━━━━━━━━━━━━━━━━━━┳━━━━━━━━━━━━━━━┓\n",
       "┃<span style=\"font-weight: bold\"> Layer (type)                    </span>┃<span style=\"font-weight: bold\"> Output Shape           </span>┃<span style=\"font-weight: bold\">       Param # </span>┃\n",
       "┡━━━━━━━━━━━━━━━━━━━━━━━━━━━━━━━━━╇━━━━━━━━━━━━━━━━━━━━━━━━╇━━━━━━━━━━━━━━━┩\n",
       "│ conv2d (<span style=\"color: #0087ff; text-decoration-color: #0087ff\">Conv2D</span>)                 │ (<span style=\"color: #00d7ff; text-decoration-color: #00d7ff\">None</span>, <span style=\"color: #00af00; text-decoration-color: #00af00\">254</span>, <span style=\"color: #00af00; text-decoration-color: #00af00\">254</span>, <span style=\"color: #00af00; text-decoration-color: #00af00\">16</span>)   │           <span style=\"color: #00af00; text-decoration-color: #00af00\">448</span> │\n",
       "├─────────────────────────────────┼────────────────────────┼───────────────┤\n",
       "│ max_pooling2d (<span style=\"color: #0087ff; text-decoration-color: #0087ff\">MaxPooling2D</span>)    │ (<span style=\"color: #00d7ff; text-decoration-color: #00d7ff\">None</span>, <span style=\"color: #00af00; text-decoration-color: #00af00\">127</span>, <span style=\"color: #00af00; text-decoration-color: #00af00\">127</span>, <span style=\"color: #00af00; text-decoration-color: #00af00\">16</span>)   │             <span style=\"color: #00af00; text-decoration-color: #00af00\">0</span> │\n",
       "├─────────────────────────────────┼────────────────────────┼───────────────┤\n",
       "│ conv2d_1 (<span style=\"color: #0087ff; text-decoration-color: #0087ff\">Conv2D</span>)               │ (<span style=\"color: #00d7ff; text-decoration-color: #00d7ff\">None</span>, <span style=\"color: #00af00; text-decoration-color: #00af00\">125</span>, <span style=\"color: #00af00; text-decoration-color: #00af00\">125</span>, <span style=\"color: #00af00; text-decoration-color: #00af00\">32</span>)   │         <span style=\"color: #00af00; text-decoration-color: #00af00\">4,640</span> │\n",
       "├─────────────────────────────────┼────────────────────────┼───────────────┤\n",
       "│ max_pooling2d_1 (<span style=\"color: #0087ff; text-decoration-color: #0087ff\">MaxPooling2D</span>)  │ (<span style=\"color: #00d7ff; text-decoration-color: #00d7ff\">None</span>, <span style=\"color: #00af00; text-decoration-color: #00af00\">62</span>, <span style=\"color: #00af00; text-decoration-color: #00af00\">62</span>, <span style=\"color: #00af00; text-decoration-color: #00af00\">32</span>)     │             <span style=\"color: #00af00; text-decoration-color: #00af00\">0</span> │\n",
       "├─────────────────────────────────┼────────────────────────┼───────────────┤\n",
       "│ conv2d_2 (<span style=\"color: #0087ff; text-decoration-color: #0087ff\">Conv2D</span>)               │ (<span style=\"color: #00d7ff; text-decoration-color: #00d7ff\">None</span>, <span style=\"color: #00af00; text-decoration-color: #00af00\">60</span>, <span style=\"color: #00af00; text-decoration-color: #00af00\">60</span>, <span style=\"color: #00af00; text-decoration-color: #00af00\">16</span>)     │         <span style=\"color: #00af00; text-decoration-color: #00af00\">4,624</span> │\n",
       "├─────────────────────────────────┼────────────────────────┼───────────────┤\n",
       "│ max_pooling2d_2 (<span style=\"color: #0087ff; text-decoration-color: #0087ff\">MaxPooling2D</span>)  │ (<span style=\"color: #00d7ff; text-decoration-color: #00d7ff\">None</span>, <span style=\"color: #00af00; text-decoration-color: #00af00\">30</span>, <span style=\"color: #00af00; text-decoration-color: #00af00\">30</span>, <span style=\"color: #00af00; text-decoration-color: #00af00\">16</span>)     │             <span style=\"color: #00af00; text-decoration-color: #00af00\">0</span> │\n",
       "├─────────────────────────────────┼────────────────────────┼───────────────┤\n",
       "│ flatten (<span style=\"color: #0087ff; text-decoration-color: #0087ff\">Flatten</span>)               │ (<span style=\"color: #00d7ff; text-decoration-color: #00d7ff\">None</span>, <span style=\"color: #00af00; text-decoration-color: #00af00\">14400</span>)          │             <span style=\"color: #00af00; text-decoration-color: #00af00\">0</span> │\n",
       "├─────────────────────────────────┼────────────────────────┼───────────────┤\n",
       "│ dense (<span style=\"color: #0087ff; text-decoration-color: #0087ff\">Dense</span>)                   │ (<span style=\"color: #00d7ff; text-decoration-color: #00d7ff\">None</span>, <span style=\"color: #00af00; text-decoration-color: #00af00\">256</span>)            │     <span style=\"color: #00af00; text-decoration-color: #00af00\">3,686,656</span> │\n",
       "├─────────────────────────────────┼────────────────────────┼───────────────┤\n",
       "│ dense_1 (<span style=\"color: #0087ff; text-decoration-color: #0087ff\">Dense</span>)                 │ (<span style=\"color: #00d7ff; text-decoration-color: #00d7ff\">None</span>, <span style=\"color: #00af00; text-decoration-color: #00af00\">10</span>)             │         <span style=\"color: #00af00; text-decoration-color: #00af00\">2,570</span> │\n",
       "└─────────────────────────────────┴────────────────────────┴───────────────┘\n",
       "</pre>\n"
      ],
      "text/plain": [
       "┏━━━━━━━━━━━━━━━━━━━━━━━━━━━━━━━━━┳━━━━━━━━━━━━━━━━━━━━━━━━┳━━━━━━━━━━━━━━━┓\n",
       "┃\u001b[1m \u001b[0m\u001b[1mLayer (type)                   \u001b[0m\u001b[1m \u001b[0m┃\u001b[1m \u001b[0m\u001b[1mOutput Shape          \u001b[0m\u001b[1m \u001b[0m┃\u001b[1m \u001b[0m\u001b[1m      Param #\u001b[0m\u001b[1m \u001b[0m┃\n",
       "┡━━━━━━━━━━━━━━━━━━━━━━━━━━━━━━━━━╇━━━━━━━━━━━━━━━━━━━━━━━━╇━━━━━━━━━━━━━━━┩\n",
       "│ conv2d (\u001b[38;5;33mConv2D\u001b[0m)                 │ (\u001b[38;5;45mNone\u001b[0m, \u001b[38;5;34m254\u001b[0m, \u001b[38;5;34m254\u001b[0m, \u001b[38;5;34m16\u001b[0m)   │           \u001b[38;5;34m448\u001b[0m │\n",
       "├─────────────────────────────────┼────────────────────────┼───────────────┤\n",
       "│ max_pooling2d (\u001b[38;5;33mMaxPooling2D\u001b[0m)    │ (\u001b[38;5;45mNone\u001b[0m, \u001b[38;5;34m127\u001b[0m, \u001b[38;5;34m127\u001b[0m, \u001b[38;5;34m16\u001b[0m)   │             \u001b[38;5;34m0\u001b[0m │\n",
       "├─────────────────────────────────┼────────────────────────┼───────────────┤\n",
       "│ conv2d_1 (\u001b[38;5;33mConv2D\u001b[0m)               │ (\u001b[38;5;45mNone\u001b[0m, \u001b[38;5;34m125\u001b[0m, \u001b[38;5;34m125\u001b[0m, \u001b[38;5;34m32\u001b[0m)   │         \u001b[38;5;34m4,640\u001b[0m │\n",
       "├─────────────────────────────────┼────────────────────────┼───────────────┤\n",
       "│ max_pooling2d_1 (\u001b[38;5;33mMaxPooling2D\u001b[0m)  │ (\u001b[38;5;45mNone\u001b[0m, \u001b[38;5;34m62\u001b[0m, \u001b[38;5;34m62\u001b[0m, \u001b[38;5;34m32\u001b[0m)     │             \u001b[38;5;34m0\u001b[0m │\n",
       "├─────────────────────────────────┼────────────────────────┼───────────────┤\n",
       "│ conv2d_2 (\u001b[38;5;33mConv2D\u001b[0m)               │ (\u001b[38;5;45mNone\u001b[0m, \u001b[38;5;34m60\u001b[0m, \u001b[38;5;34m60\u001b[0m, \u001b[38;5;34m16\u001b[0m)     │         \u001b[38;5;34m4,624\u001b[0m │\n",
       "├─────────────────────────────────┼────────────────────────┼───────────────┤\n",
       "│ max_pooling2d_2 (\u001b[38;5;33mMaxPooling2D\u001b[0m)  │ (\u001b[38;5;45mNone\u001b[0m, \u001b[38;5;34m30\u001b[0m, \u001b[38;5;34m30\u001b[0m, \u001b[38;5;34m16\u001b[0m)     │             \u001b[38;5;34m0\u001b[0m │\n",
       "├─────────────────────────────────┼────────────────────────┼───────────────┤\n",
       "│ flatten (\u001b[38;5;33mFlatten\u001b[0m)               │ (\u001b[38;5;45mNone\u001b[0m, \u001b[38;5;34m14400\u001b[0m)          │             \u001b[38;5;34m0\u001b[0m │\n",
       "├─────────────────────────────────┼────────────────────────┼───────────────┤\n",
       "│ dense (\u001b[38;5;33mDense\u001b[0m)                   │ (\u001b[38;5;45mNone\u001b[0m, \u001b[38;5;34m256\u001b[0m)            │     \u001b[38;5;34m3,686,656\u001b[0m │\n",
       "├─────────────────────────────────┼────────────────────────┼───────────────┤\n",
       "│ dense_1 (\u001b[38;5;33mDense\u001b[0m)                 │ (\u001b[38;5;45mNone\u001b[0m, \u001b[38;5;34m10\u001b[0m)             │         \u001b[38;5;34m2,570\u001b[0m │\n",
       "└─────────────────────────────────┴────────────────────────┴───────────────┘\n"
      ]
     },
     "metadata": {},
     "output_type": "display_data"
    },
    {
     "data": {
      "text/html": [
       "<pre style=\"white-space:pre;overflow-x:auto;line-height:normal;font-family:Menlo,'DejaVu Sans Mono',consolas,'Courier New',monospace\"><span style=\"font-weight: bold\"> Total params: </span><span style=\"color: #00af00; text-decoration-color: #00af00\">3,698,938</span> (14.11 MB)\n",
       "</pre>\n"
      ],
      "text/plain": [
       "\u001b[1m Total params: \u001b[0m\u001b[38;5;34m3,698,938\u001b[0m (14.11 MB)\n"
      ]
     },
     "metadata": {},
     "output_type": "display_data"
    },
    {
     "data": {
      "text/html": [
       "<pre style=\"white-space:pre;overflow-x:auto;line-height:normal;font-family:Menlo,'DejaVu Sans Mono',consolas,'Courier New',monospace\"><span style=\"font-weight: bold\"> Trainable params: </span><span style=\"color: #00af00; text-decoration-color: #00af00\">3,698,938</span> (14.11 MB)\n",
       "</pre>\n"
      ],
      "text/plain": [
       "\u001b[1m Trainable params: \u001b[0m\u001b[38;5;34m3,698,938\u001b[0m (14.11 MB)\n"
      ]
     },
     "metadata": {},
     "output_type": "display_data"
    },
    {
     "data": {
      "text/html": [
       "<pre style=\"white-space:pre;overflow-x:auto;line-height:normal;font-family:Menlo,'DejaVu Sans Mono',consolas,'Courier New',monospace\"><span style=\"font-weight: bold\"> Non-trainable params: </span><span style=\"color: #00af00; text-decoration-color: #00af00\">0</span> (0.00 B)\n",
       "</pre>\n"
      ],
      "text/plain": [
       "\u001b[1m Non-trainable params: \u001b[0m\u001b[38;5;34m0\u001b[0m (0.00 B)\n"
      ]
     },
     "metadata": {},
     "output_type": "display_data"
    }
   ],
   "source": [
    "model.summary() #prints the summary of the model, shows the layers, output shape, number of parameters, etc."
   ]
  },
  {
   "cell_type": "markdown",
   "metadata": {},
   "source": [
    "Time to Train!"
   ]
  },
  {
   "cell_type": "code",
   "execution_count": 26,
   "metadata": {},
   "outputs": [],
   "source": [
    "logdir = 'logs'"
   ]
  },
  {
   "cell_type": "code",
   "execution_count": 27,
   "metadata": {},
   "outputs": [],
   "source": [
    "tensorboard_callback = tf.keras.callbacks.TensorBoard(log_dir=logdir) #creates a tensorboard callback to log the training process, logs to the logdir directory"
   ]
  },
  {
   "cell_type": "code",
   "execution_count": 30,
   "metadata": {},
   "outputs": [
    {
     "name": "stdout",
     "output_type": "stream",
     "text": [
      "Epoch 1/20\n",
      "\u001b[1m310/310\u001b[0m \u001b[32m━━━━━━━━━━━━━━━━━━━━\u001b[0m\u001b[37m\u001b[0m \u001b[1m91s\u001b[0m 287ms/step - accuracy: 0.3644 - loss: 1.6338 - val_accuracy: 0.5597 - val_loss: 1.1355\n",
      "Epoch 2/20\n",
      "\u001b[1m310/310\u001b[0m \u001b[32m━━━━━━━━━━━━━━━━━━━━\u001b[0m\u001b[37m\u001b[0m \u001b[1m97s\u001b[0m 312ms/step - accuracy: 0.5605 - loss: 1.1408 - val_accuracy: 0.5732 - val_loss: 1.0959\n",
      "Epoch 3/20\n",
      "\u001b[1m310/310\u001b[0m \u001b[32m━━━━━━━━━━━━━━━━━━━━\u001b[0m\u001b[37m\u001b[0m \u001b[1m95s\u001b[0m 305ms/step - accuracy: 0.5871 - loss: 1.0568 - val_accuracy: 0.5856 - val_loss: 1.0516\n",
      "Epoch 4/20\n",
      "\u001b[1m310/310\u001b[0m \u001b[32m━━━━━━━━━━━━━━━━━━━━\u001b[0m\u001b[37m\u001b[0m \u001b[1m89s\u001b[0m 285ms/step - accuracy: 0.6368 - loss: 0.9284 - val_accuracy: 0.5863 - val_loss: 1.0611\n",
      "Epoch 5/20\n",
      "\u001b[1m310/310\u001b[0m \u001b[32m━━━━━━━━━━━━━━━━━━━━\u001b[0m\u001b[37m\u001b[0m \u001b[1m86s\u001b[0m 276ms/step - accuracy: 0.6879 - loss: 0.8151 - val_accuracy: 0.5941 - val_loss: 1.0784\n",
      "Epoch 6/20\n",
      "\u001b[1m310/310\u001b[0m \u001b[32m━━━━━━━━━━━━━━━━━━━━\u001b[0m\u001b[37m\u001b[0m \u001b[1m104s\u001b[0m 337ms/step - accuracy: 0.7405 - loss: 0.6782 - val_accuracy: 0.5945 - val_loss: 1.2601\n",
      "Epoch 7/20\n",
      "\u001b[1m310/310\u001b[0m \u001b[32m━━━━━━━━━━━━━━━━━━━━\u001b[0m\u001b[37m\u001b[0m \u001b[1m97s\u001b[0m 314ms/step - accuracy: 0.8028 - loss: 0.5441 - val_accuracy: 0.6225 - val_loss: 1.2374\n",
      "Epoch 8/20\n",
      "\u001b[1m310/310\u001b[0m \u001b[32m━━━━━━━━━━━━━━━━━━━━\u001b[0m\u001b[37m\u001b[0m \u001b[1m100s\u001b[0m 322ms/step - accuracy: 0.8483 - loss: 0.4373 - val_accuracy: 0.6161 - val_loss: 1.5679\n",
      "Epoch 9/20\n",
      "\u001b[1m310/310\u001b[0m \u001b[32m━━━━━━━━━━━━━━━━━━━━\u001b[0m\u001b[37m\u001b[0m \u001b[1m96s\u001b[0m 310ms/step - accuracy: 0.8747 - loss: 0.3553 - val_accuracy: 0.6282 - val_loss: 1.6876\n",
      "Epoch 10/20\n",
      "\u001b[1m310/310\u001b[0m \u001b[32m━━━━━━━━━━━━━━━━━━━━\u001b[0m\u001b[37m\u001b[0m \u001b[1m99s\u001b[0m 319ms/step - accuracy: 0.8996 - loss: 0.2986 - val_accuracy: 0.5984 - val_loss: 1.9254\n",
      "Epoch 11/20\n",
      "\u001b[1m310/310\u001b[0m \u001b[32m━━━━━━━━━━━━━━━━━━━━\u001b[0m\u001b[37m\u001b[0m \u001b[1m92s\u001b[0m 296ms/step - accuracy: 0.9182 - loss: 0.2579 - val_accuracy: 0.6204 - val_loss: 1.9658\n",
      "Epoch 12/20\n",
      "\u001b[1m310/310\u001b[0m \u001b[32m━━━━━━━━━━━━━━━━━━━━\u001b[0m\u001b[37m\u001b[0m \u001b[1m92s\u001b[0m 296ms/step - accuracy: 0.9351 - loss: 0.2042 - val_accuracy: 0.6133 - val_loss: 2.2942\n",
      "Epoch 13/20\n",
      "\u001b[1m310/310\u001b[0m \u001b[32m━━━━━━━━━━━━━━━━━━━━\u001b[0m\u001b[37m\u001b[0m \u001b[1m84s\u001b[0m 270ms/step - accuracy: 0.9357 - loss: 0.1974 - val_accuracy: 0.6101 - val_loss: 2.1869\n",
      "Epoch 14/20\n",
      "\u001b[1m310/310\u001b[0m \u001b[32m━━━━━━━━━━━━━━━━━━━━\u001b[0m\u001b[37m\u001b[0m \u001b[1m80s\u001b[0m 259ms/step - accuracy: 0.9572 - loss: 0.1479 - val_accuracy: 0.6186 - val_loss: 2.5313\n",
      "Epoch 15/20\n",
      "\u001b[1m310/310\u001b[0m \u001b[32m━━━━━━━━━━━━━━━━━━━━\u001b[0m\u001b[37m\u001b[0m \u001b[1m81s\u001b[0m 260ms/step - accuracy: 0.9607 - loss: 0.1237 - val_accuracy: 0.6381 - val_loss: 2.4914\n",
      "Epoch 16/20\n",
      "\u001b[1m310/310\u001b[0m \u001b[32m━━━━━━━━━━━━━━━━━━━━\u001b[0m\u001b[37m\u001b[0m \u001b[1m80s\u001b[0m 259ms/step - accuracy: 0.9659 - loss: 0.1184 - val_accuracy: 0.6126 - val_loss: 2.3599\n",
      "Epoch 17/20\n",
      "\u001b[1m310/310\u001b[0m \u001b[32m━━━━━━━━━━━━━━━━━━━━\u001b[0m\u001b[37m\u001b[0m \u001b[1m81s\u001b[0m 261ms/step - accuracy: 0.9663 - loss: 0.1217 - val_accuracy: 0.6328 - val_loss: 2.5329\n",
      "Epoch 18/20\n",
      "\u001b[1m310/310\u001b[0m \u001b[32m━━━━━━━━━━━━━━━━━━━━\u001b[0m\u001b[37m\u001b[0m \u001b[1m100s\u001b[0m 321ms/step - accuracy: 0.9775 - loss: 0.0813 - val_accuracy: 0.6289 - val_loss: 2.6225\n",
      "Epoch 19/20\n",
      "\u001b[1m310/310\u001b[0m \u001b[32m━━━━━━━━━━━━━━━━━━━━\u001b[0m\u001b[37m\u001b[0m \u001b[1m95s\u001b[0m 306ms/step - accuracy: 0.9707 - loss: 0.0991 - val_accuracy: 0.6282 - val_loss: 2.6077\n",
      "Epoch 20/20\n",
      "\u001b[1m310/310\u001b[0m \u001b[32m━━━━━━━━━━━━━━━━━━━━\u001b[0m\u001b[37m\u001b[0m \u001b[1m92s\u001b[0m 295ms/step - accuracy: 0.9787 - loss: 0.0743 - val_accuracy: 0.6190 - val_loss: 2.6658\n"
     ]
    }
   ],
   "source": [
    "#Run Command\n",
    "hist = model.fit(train, epochs=20, validation_data=val, callbacks=[tensorboard_callback])"
   ]
  },
  {
   "cell_type": "code",
   "execution_count": null,
   "metadata": {},
   "outputs": [
    {
     "data": {
      "image/png": "[encoded data removed]",
      "text/plain": [
       "<Figure size 640x480 with 1 Axes>"
      ]
     },
     "metadata": {},
     "output_type": "display_data"
    }
   ],
   "source": [
    "fig = plt.figure()\n",
    "plt.plot(hist.history['loss'], color = 'teal', label ='loss')\n",
    "plt.plot(hist.history['val_loss'], color = 'orange', label = 'val_loss')\n",
    "fig.suptitle('Loss', fontsize=20)\n",
    "plt.legend(loc=\"upper left\")\n",
    "plt.show() "
   ]
  },
  {
   "cell_type": "code",
   "execution_count": null,
   "metadata": {},
   "outputs": [
    {
     "data": {
      "text/plain": [
       "{'accuracy': [0.4574596881866455,\n",
       "  0.5691532492637634,\n",
       "  0.598487913608551,\n",
       "  0.6471773982048035,\n",
       "  0.6993951797485352,\n",
       "  0.7566532492637634,\n",
       "  0.8151209950447083,\n",
       "  0.8555443286895752,\n",
       "  0.8850806355476379,\n",
       "  0.9090725779533386,\n",
       "  0.9303427338600159,\n",
       "  0.9385080933570862,\n",
       "  0.9435483813285828,\n",
       "  0.9598790407180786,\n",
       "  0.9670363068580627,\n",
       "  0.9677419066429138,\n",
       "  0.969556450843811,\n",
       "  0.9764112830162048,\n",
       "  0.9723790287971497,\n",
       "  0.9779233932495117],\n",
       " 'loss': [1.3962699174880981,\n",
       "  1.1122822761535645,\n",
       "  1.0307338237762451,\n",
       "  0.9107924103736877,\n",
       "  0.7942650318145752,\n",
       "  0.6482600569725037,\n",
       "  0.5199028849601746,\n",
       "  0.415877103805542,\n",
       "  0.33158811926841736,\n",
       "  0.2766162157058716,\n",
       "  0.22838547825813293,\n",
       "  0.19850042462348938,\n",
       "  0.17829687893390656,\n",
       "  0.14044420421123505,\n",
       "  0.1104620024561882,\n",
       "  0.1087334081530571,\n",
       "  0.10891713947057724,\n",
       "  0.08465934544801712,\n",
       "  0.09430402517318726,\n",
       "  0.08002227544784546],\n",
       " 'val_accuracy': [0.5596590638160706,\n",
       "  0.5731534361839294,\n",
       "  0.5855823755264282,\n",
       "  0.5862926244735718,\n",
       "  0.5941051244735718,\n",
       "  0.5944602489471436,\n",
       "  0.6225141882896423,\n",
       "  0.6161221861839294,\n",
       "  0.6281960010528564,\n",
       "  0.5983664989471436,\n",
       "  0.6203835010528564,\n",
       "  0.61328125,\n",
       "  0.6100852489471436,\n",
       "  0.6186079382896423,\n",
       "  0.6381391882896423,\n",
       "  0.6125710010528564,\n",
       "  0.6328125,\n",
       "  0.62890625,\n",
       "  0.6281960010528564,\n",
       "  0.6189630627632141],\n",
       " 'val_loss': [1.1355057954788208,\n",
       "  1.0959261655807495,\n",
       "  1.0516167879104614,\n",
       "  1.0610915422439575,\n",
       "  1.078406810760498,\n",
       "  1.2601375579833984,\n",
       "  1.2374247312545776,\n",
       "  1.5679470300674438,\n",
       "  1.6876239776611328,\n",
       "  1.9254257678985596,\n",
       "  1.9657700061798096,\n",
       "  2.294238805770874,\n",
       "  2.186861038208008,\n",
       "  2.5312561988830566,\n",
       "  2.4914021492004395,\n",
       "  2.359896183013916,\n",
       "  2.532867670059204,\n",
       "  2.6224935054779053,\n",
       "  2.607651948928833,\n",
       "  2.6657702922821045]}"
      ]
     },
     "execution_count": 40,
     "metadata": {},
     "output_type": "execute_result"
    }
   ],
   "source": [
    "hist.history #MODEL IS OVERFITTING ^ APPLY REGULARIZATION"
   ]
  },
  {
   "cell_type": "code",
   "execution_count": 34,
   "metadata": {},
   "outputs": [
    {
     "name": "stderr",
     "output_type": "stream",
     "text": [
      "WARNING:absl:You are saving your model as an HDF5 file via `model.save()` or `keras.saving.save_model(model)`. This file format is considered legacy. We recommend using instead the native Keras format, e.g. `model.save('my_model.keras')` or `keras.saving.save_model(model, 'my_model.keras')`. \n"
     ]
    }
   ],
   "source": [
    "from tensorflow.keras.models import load_model #type: ignore\n",
    "model.save(os.path.join('models', 'chairtwo.h5'))"
   ]
  },
  {
   "cell_type": "code",
   "execution_count": 35,
   "metadata": {},
   "outputs": [
    {
     "name": "stderr",
     "output_type": "stream",
     "text": [
      "WARNING:absl:Compiled the loaded model, but the compiled metrics have yet to be built. `model.compile_metrics` will be empty until you train or evaluate the model.\n"
     ]
    }
   ],
   "source": [
    "new_model = load_model(os.path.join('models', 'chairtwo.h5'))"
   ]
  }
 ],
 "metadata": {
  "kernelspec": {
   "display_name": ".venv",
   "language": "python",
   "name": "python3"
  },
  "language_info": {
   "codemirror_mode": {
    "name": "ipython",
    "version": 3
   },
   "file_extension": ".py",
   "mimetype": "text/x-python",
   "name": "python",
   "nbconvert_exporter": "python",
   "pygments_lexer": "ipython3",
   "version": "3.12.0"
  }
 },
 "nbformat": 4,
 "nbformat_minor": 2
}
